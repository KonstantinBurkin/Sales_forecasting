{
  "cells": [
    {
      "cell_type": "markdown",
      "metadata": {
        "id": "U3gcSdf2GZfL"
      },
      "source": [
        "For evaluation of ML models weighted absolute percentage error (WAPE) is used as quality metric.\n",
        "\n",
        "$$\\text{WAPE}(y, \\hat{y}\\ ) = \\frac{100\\%}{N} \\frac{\\sum_{}^{}y_i - \\hat{y}_i}{\\sum_{}^{}y_i}$$"
      ]
    },
    {
      "cell_type": "markdown",
      "metadata": {
        "id": "c3Y04J10YzzO"
      },
      "source": [
        "## Import"
      ]
    },
    {
      "cell_type": "code",
      "execution_count": 1,
      "metadata": {
        "cellView": "code",
        "id": "FkKO14NvRle_"
      },
      "outputs": [],
      "source": [
        "import numpy as np\n",
        "import pandas as pd\n",
        "import matplotlib.pyplot as plt\n",
        "\n",
        "import catboost as cb\n",
        "import lightgbm as lgb\n",
        "from sklearn.model_selection import train_test_split\n",
        "\n",
        "# ignore warnings when graphs are plotted\n",
        "import warnings\n",
        "\n",
        "warnings.filterwarnings(\"ignore\")\n",
        "\n",
        "\n",
        "# define func for WAPE calculation\n",
        "def wape_f(y_true, y_pred):\n",
        "    return round(np.sum(np.abs(y_true - y_pred)) / np.sum(y_true) * 100, 3)"
      ]
    },
    {
      "cell_type": "markdown",
      "metadata": {},
      "source": [
        "## Read data"
      ]
    },
    {
      "cell_type": "code",
      "execution_count": 6,
      "metadata": {
        "id": "Rxn0Lfm2abWs"
      },
      "outputs": [],
      "source": [
        "train_df = pd.read_parquet(\"../data/train_df.parquet\")\n",
        "eval_df = pd.read_parquet(\"../data/eval_df.parquet\")\n",
        "test_df = pd.read_parquet(\"../data/test_df.parquet\")"
      ]
    },
    {
      "cell_type": "code",
      "execution_count": 7,
      "metadata": {
        "colab": {
          "base_uri": "https://localhost:8080/",
          "height": 206
        },
        "id": "qic9bX5M_m78",
        "outputId": "889b91e8-a68d-410d-9b89-cbdedda4a1ff"
      },
      "outputs": [
        {
          "data": {
            "text/html": [
              "<div>\n",
              "<style scoped>\n",
              "    .dataframe tbody tr th:only-of-type {\n",
              "        vertical-align: middle;\n",
              "    }\n",
              "\n",
              "    .dataframe tbody tr th {\n",
              "        vertical-align: top;\n",
              "    }\n",
              "\n",
              "    .dataframe thead th {\n",
              "        text-align: right;\n",
              "    }\n",
              "</style>\n",
              "<table border=\"1\" class=\"dataframe\">\n",
              "  <thead>\n",
              "    <tr style=\"text-align: right;\">\n",
              "      <th></th>\n",
              "      <th>date</th>\n",
              "      <th>city_name</th>\n",
              "      <th>store_id</th>\n",
              "      <th>category_id</th>\n",
              "      <th>product_id</th>\n",
              "      <th>price</th>\n",
              "      <th>weather_desc</th>\n",
              "      <th>humidity</th>\n",
              "      <th>temperature</th>\n",
              "      <th>pressure</th>\n",
              "      <th>...</th>\n",
              "      <th>month</th>\n",
              "      <th>is_month_start</th>\n",
              "      <th>is_month_end</th>\n",
              "      <th>year</th>\n",
              "      <th>quarter</th>\n",
              "      <th>season</th>\n",
              "      <th>sales_lag_1_week</th>\n",
              "      <th>sales_lag_2_week</th>\n",
              "      <th>sales_lag_3_week</th>\n",
              "      <th>median_lag</th>\n",
              "    </tr>\n",
              "  </thead>\n",
              "  <tbody>\n",
              "    <tr>\n",
              "      <th>21</th>\n",
              "      <td>2021-09-09</td>\n",
              "      <td>Moscow</td>\n",
              "      <td>1</td>\n",
              "      <td>1</td>\n",
              "      <td>1</td>\n",
              "      <td>4.79</td>\n",
              "      <td>partly cloudy</td>\n",
              "      <td>78.9375</td>\n",
              "      <td>15.0625</td>\n",
              "      <td>747.0</td>\n",
              "      <td>...</td>\n",
              "      <td>9</td>\n",
              "      <td>False</td>\n",
              "      <td>False</td>\n",
              "      <td>2021</td>\n",
              "      <td>3</td>\n",
              "      <td>autumn</td>\n",
              "      <td>12.0</td>\n",
              "      <td>23.0</td>\n",
              "      <td>20.0</td>\n",
              "      <td>20.0</td>\n",
              "    </tr>\n",
              "  </tbody>\n",
              "</table>\n",
              "<p>1 rows × 25 columns</p>\n",
              "</div>"
            ],
            "text/plain": [
              "         date city_name  store_id  category_id  product_id  price  \\\n",
              "21 2021-09-09    Moscow         1            1           1   4.79   \n",
              "\n",
              "     weather_desc  humidity  temperature  pressure  ...  month  \\\n",
              "21  partly cloudy   78.9375      15.0625     747.0  ...      9   \n",
              "\n",
              "    is_month_start  is_month_end  year  quarter  season  sales_lag_1_week  \\\n",
              "21           False         False  2021        3  autumn              12.0   \n",
              "\n",
              "    sales_lag_2_week  sales_lag_3_week  median_lag  \n",
              "21              23.0              20.0        20.0  \n",
              "\n",
              "[1 rows x 25 columns]"
            ]
          },
          "execution_count": 7,
          "metadata": {},
          "output_type": "execute_result"
        }
      ],
      "source": [
        "# check data sample\n",
        "train_df.head(1)"
      ]
    },
    {
      "cell_type": "markdown",
      "metadata": {
        "id": "FgccgRC8LJsB"
      },
      "source": [
        "## Building ML models"
      ]
    },
    {
      "cell_type": "markdown",
      "metadata": {
        "id": "xAfeYVgMETU1"
      },
      "source": [
        "### Optuna"
      ]
    },
    {
      "cell_type": "markdown",
      "metadata": {
        "id": "0n-3lpJlw_8N"
      },
      "source": [
        "#### CatBoost"
      ]
    },
    {
      "cell_type": "code",
      "execution_count": null,
      "metadata": {
        "id": "YYiJA1ZdFuIz"
      },
      "outputs": [],
      "source": [
        "tuning_params_cb = {\n",
        "    # TODO: add more params for CatBoost\n",
        "    \"int\": {\n",
        "        \"n_estimators\": [100, 500],\n",
        "        \"depth\": [6, 16],\n",
        "    },\n",
        "    \"float\": {\n",
        "        \"learning_rate\": [0.1, 0.3],\n",
        "    },\n",
        "}\n",
        "\n",
        "cat_feats = [\n",
        "    col\n",
        "    for col in train_df.drop(columns=\"sales\").columns\n",
        "    if train_df[col].dtype in (\"O\", \"int64\", \"bool\")\n",
        "]\n",
        "\n",
        "\n",
        "class WapeMetric:\n",
        "    def is_max_optimal(self):\n",
        "        return False  # greater is better\n",
        "\n",
        "    def evaluate(self, approxes, target, weight):\n",
        "        assert len(approxes) == 1\n",
        "        assert len(target) == len(approxes[0])\n",
        "\n",
        "        approx = approxes[0]\n",
        "\n",
        "        y_pred = np.rint(approx).astype(int)\n",
        "        y_true = np.array(target).astype(int)\n",
        "\n",
        "        output_weight = 1  # weight is not used\n",
        "\n",
        "        score = wape_f(y_true, y_pred)\n",
        "\n",
        "        return score, output_weight\n",
        "\n",
        "    def get_final_error(self, error, weight):\n",
        "        return error\n",
        "\n",
        "\n",
        "default_params_cb = dict(\n",
        "    # TODO: add more default params for Catboost\n",
        "    n_estimators=200,\n",
        "    learning_rate=0.05,\n",
        "    depth=11,\n",
        "    random_state=11,\n",
        "    cat_features=cat_feats,\n",
        "    eval_metric=WapeMetric(),\n",
        ")"
      ]
    },
    {
      "cell_type": "code",
      "execution_count": null,
      "metadata": {
        "id": "gKSxrEbJDcn_"
      },
      "outputs": [],
      "source": [
        "def objective(\n",
        "    trial,\n",
        "    train_df: pd.DataFrame,\n",
        "    test_df: pd.DataFrame,\n",
        "    tuning_params,\n",
        "    default_params,\n",
        "    model_name,\n",
        ") -> float:\n",
        "\n",
        "    params = {\n",
        "        key: trial.suggest_int(key, *value)\n",
        "        for key, value in tuning_params[\"int\"].items()\n",
        "    }\n",
        "    params.update(\n",
        "        {\n",
        "            key: trial.suggest_float(key, *value, log=True)\n",
        "            for key, value in tuning_params[\"float\"].items()\n",
        "        }\n",
        "    )\n",
        "    params.update(\n",
        "        {nm: value for nm, value in default_params.items() if nm not in params.keys()}\n",
        "    )\n",
        "\n",
        "    if model_name == \"cb\":\n",
        "        model = cb.CatBoostRegressor(**params)\n",
        "    elif model_name == \"lgb\":\n",
        "        model = lgb.LGBMRegressor(**params)\n",
        "\n",
        "    model.fit(\n",
        "        X=train_df.drop(columns=\"sales\"),\n",
        "        y=train_df.sales,\n",
        "    )\n",
        "\n",
        "    y_pred = model.predict(test_df.drop(columns=\"sales\"))\n",
        "\n",
        "    metric = wape_f(test_df.sales, y_pred)\n",
        "\n",
        "    return metric"
      ]
    },
    {
      "cell_type": "code",
      "execution_count": null,
      "metadata": {
        "id": "9H0lQXpbJely"
      },
      "outputs": [],
      "source": [
        "optuna_cut_date = str(train_df.date.max() - pd.DateOffset(days=6))[:10]\n",
        "optuna_train_df = (\n",
        "    train_df[(train_df.date < optuna_cut_date)]\n",
        "    .drop(columns=[\"date\"])\n",
        "    .reset_index(drop=True)\n",
        ")\n",
        "optuna_test_df = (\n",
        "    train_df[(train_df.date >= optuna_cut_date)]\n",
        "    .drop(columns=[\"date\"])\n",
        "    .reset_index(drop=True)\n",
        ")"
      ]
    },
    {
      "cell_type": "code",
      "execution_count": null,
      "metadata": {
        "id": "7c5Lq-u8D89R"
      },
      "outputs": [],
      "source": [
        "study = optuna.create_study(direction=\"minimize\", study_name=f\"CatBoost Tunning\")\n",
        "\n",
        "# with ThreadPoolExecutor(self.n_trials_optuna) as pool:\n",
        "#     for _ in range(self.n_trials_optuna):\n",
        "\n",
        "#         obj_function = lambda trial: self._objective(\n",
        "#             trial,\n",
        "#             train_df=train_df,\n",
        "#             optuna_df=optuna_df\n",
        "#         )\n",
        "\n",
        "#         pool.submit(\n",
        "#             study.optimize, obj_function, n_trials=1\n",
        "#         )\n",
        "\n",
        "obj_function = lambda trial: objective(\n",
        "    trial,\n",
        "    train_df=optuna_train_df,\n",
        "    test_df=optuna_test_df,\n",
        "    tuning_params=tuning_params_cb,\n",
        "    default_params=default_params_cb,\n",
        "    model_name=\"cb\",\n",
        ")\n",
        "\n",
        "study.optimize(obj_function, gc_after_trial=True, n_jobs=5, n_trials=5)\n",
        "\n",
        "best_params_cb = study.best_params"
      ]
    },
    {
      "cell_type": "code",
      "execution_count": null,
      "metadata": {
        "colab": {
          "base_uri": "https://localhost:8080/"
        },
        "id": "R3Dpudx3aH-C",
        "outputId": "789a8c78-9525-4414-d936-d80e13469787"
      },
      "outputs": [
        {
          "data": {
            "text/plain": [
              "{'n_estimators': 227, 'depth': 9, 'learning_rate': 0.2714867898215648}"
            ]
          },
          "execution_count": 55,
          "metadata": {},
          "output_type": "execute_result"
        }
      ],
      "source": [
        "best_params_cb = {\"n_estimators\": 227, \"depth\": 9, \"learning_rate\": 0.2714867898215648}"
      ]
    },
    {
      "cell_type": "markdown",
      "metadata": {
        "id": "VS6UzyEtxFq9"
      },
      "source": [
        "#### LightGBM"
      ]
    },
    {
      "cell_type": "code",
      "execution_count": null,
      "metadata": {
        "id": "tFrQ4schxJ2i"
      },
      "outputs": [],
      "source": [
        "tuning_params_lgb = {\n",
        "    \"int\": {\n",
        "        \"n_estimators\": [300, 1000],\n",
        "        \"max_depth\": [6, 16],\n",
        "    },\n",
        "    \"float\": {\n",
        "        \"learning_rate\": [0.1, 0.3],\n",
        "    },\n",
        "}\n",
        "\n",
        "cat_feats = [\n",
        "    col\n",
        "    for col in train_df.drop(columns=\"sales\").columns\n",
        "    if train_df[col].dtype in (\"O\", \"int64\", \"bool\")\n",
        "]\n",
        "\n",
        "\n",
        "class WapeMetric:\n",
        "    def is_max_optimal(self):\n",
        "        return False  # greater is better\n",
        "\n",
        "    def evaluate(self, approxes, target, weight):\n",
        "        assert len(approxes) == 1\n",
        "        assert len(target) == len(approxes[0])\n",
        "\n",
        "        approx = approxes[0]\n",
        "\n",
        "        y_pred = np.rint(approx).astype(int)\n",
        "        y_true = np.array(target).astype(int)\n",
        "\n",
        "        output_weight = 1  # weight is not used\n",
        "\n",
        "        score = wape_f(y_true, y_pred)\n",
        "\n",
        "        return score, output_weight\n",
        "\n",
        "    def get_final_error(self, error, weight):\n",
        "        return error\n",
        "\n",
        "\n",
        "default_params_lgb = dict(\n",
        "    objective=\"tweedie\",\n",
        "    metric=\"None\",\n",
        "    learning_rate=0.05,\n",
        "    max_depth=11,\n",
        "    boosting_type=\"gbdt\",\n",
        "    num_leaves=30,\n",
        "    n_estimators=200,\n",
        "    n_jobs=8,\n",
        "    random_state=11,\n",
        ")"
      ]
    },
    {
      "cell_type": "code",
      "execution_count": null,
      "metadata": {
        "id": "heUDHfqdyWMZ"
      },
      "outputs": [],
      "source": [
        "optuna_cut_date = str(train_df.date.max() - pd.DateOffset(days=6))[:10]\n",
        "optuna_train_df = (\n",
        "    train_df[(train_df.date < optuna_cut_date)]\n",
        "    .drop(columns=[\"date\"])\n",
        "    .reset_index(drop=True)\n",
        ")\n",
        "optuna_test_df = (\n",
        "    train_df[(train_df.date >= optuna_cut_date)]\n",
        "    .drop(columns=[\"date\"])\n",
        "    .reset_index(drop=True)\n",
        ")\n",
        "\n",
        "city_list = optuna_train_df.city_name.unique().tolist()\n",
        "waether_list = optuna_train_df.weather_desc.unique().tolist()\n",
        "days_list = optuna_train_df.day_of_week.unique().tolist()\n",
        "season_list = optuna_train_df.season.unique().tolist()\n",
        "\n",
        "for df in [optuna_train_df, optuna_test_df]:\n",
        "\n",
        "    df[\"city_name\"].replace(city_list, range(len(city_list)), inplace=True)\n",
        "    df[\"weather_desc\"].replace(waether_list, range(len(waether_list)), inplace=True)\n",
        "    df[\"day_of_week\"].replace(days_list, range(len(days_list)), inplace=True)\n",
        "    df[\"season\"].replace(season_list, range(len(season_list)), inplace=True)"
      ]
    },
    {
      "cell_type": "code",
      "execution_count": null,
      "metadata": {
        "colab": {
          "base_uri": "https://localhost:8080/"
        },
        "id": "KTehHWjnyYAV",
        "outputId": "68d83d46-f1d5-4ef6-d727-a02f3b6fe8c2"
      },
      "outputs": [
        {
          "name": "stderr",
          "output_type": "stream",
          "text": [
            "[I 2024-03-06 08:19:24,979] A new study created in memory with name: LightGBM Tunning\n",
            "[I 2024-03-06 08:22:13,508] Trial 1 finished with value: 31.427 and parameters: {'n_estimators': 457, 'max_depth': 14, 'learning_rate': 0.29325747820496934}. Best is trial 1 with value: 31.427.\n",
            "[I 2024-03-06 08:22:38,942] Trial 4 finished with value: 30.819 and parameters: {'n_estimators': 422, 'max_depth': 16, 'learning_rate': 0.27609114724839856}. Best is trial 4 with value: 30.819.\n",
            "[I 2024-03-06 08:22:48,644] Trial 0 finished with value: 30.424 and parameters: {'n_estimators': 607, 'max_depth': 6, 'learning_rate': 0.2389962717293979}. Best is trial 0 with value: 30.424.\n",
            "[I 2024-03-06 08:22:49,135] Trial 2 finished with value: 30.749 and parameters: {'n_estimators': 589, 'max_depth': 13, 'learning_rate': 0.23383450331670802}. Best is trial 0 with value: 30.424.\n",
            "[I 2024-03-06 08:22:57,191] Trial 3 finished with value: 31.181 and parameters: {'n_estimators': 590, 'max_depth': 9, 'learning_rate': 0.2621385737064094}. Best is trial 0 with value: 30.424.\n"
          ]
        }
      ],
      "source": [
        "study = optuna.create_study(direction=\"minimize\", study_name=f\"LightGBM Tunning\")\n",
        "\n",
        "obj_function = lambda trial: objective(\n",
        "    trial,\n",
        "    train_df=optuna_train_df,\n",
        "    test_df=optuna_test_df,\n",
        "    tuning_params=tuning_params_lgb,\n",
        "    default_params=default_params_lgb,\n",
        "    model_name=\"lgb\",\n",
        ")\n",
        "\n",
        "study.optimize(obj_function, gc_after_trial=True, n_jobs=5, n_trials=5)\n",
        "\n",
        "best_params_lgb = study.best_params"
      ]
    },
    {
      "cell_type": "code",
      "execution_count": null,
      "metadata": {
        "colab": {
          "base_uri": "https://localhost:8080/"
        },
        "id": "W7M_ZuOJ2Nac",
        "outputId": "8aef83c2-1768-4a2d-d4ad-ced059089e8f"
      },
      "outputs": [
        {
          "data": {
            "text/plain": [
              "{'n_estimators': 607, 'max_depth': 6, 'learning_rate': 0.2389962717293979}"
            ]
          },
          "execution_count": 44,
          "metadata": {},
          "output_type": "execute_result"
        }
      ],
      "source": [
        "best_params_lgb"
      ]
    },
    {
      "cell_type": "markdown",
      "metadata": {
        "id": "pgGcW5B_a1nk"
      },
      "source": [
        "### CatBoost model"
      ]
    },
    {
      "cell_type": "code",
      "execution_count": null,
      "metadata": {
        "id": "xUa1jEkGA0Io"
      },
      "outputs": [],
      "source": [
        "class WapeMetric:\n",
        "    def is_max_optimal(self):\n",
        "        return False  # greater is better\n",
        "\n",
        "    def evaluate(self, approxes, target, weight):\n",
        "        assert len(approxes) == 1\n",
        "        assert len(target) == len(approxes[0])\n",
        "\n",
        "        approx = approxes[0]\n",
        "\n",
        "        y_pred = np.rint(approx).astype(int)\n",
        "        y_true = np.array(target).astype(int)\n",
        "\n",
        "        output_weight = 1  # weight is not used\n",
        "\n",
        "        score = wape_f(y_true, y_pred)\n",
        "\n",
        "        return score, output_weight\n",
        "\n",
        "    def get_final_error(self, error, weight):\n",
        "        return error"
      ]
    },
    {
      "cell_type": "code",
      "execution_count": null,
      "metadata": {
        "colab": {
          "base_uri": "https://localhost:8080/"
        },
        "id": "hTfjZeEmjqRV",
        "outputId": "d56af0ae-d81c-4241-c386-b4069ca5c976"
      },
      "outputs": [
        {
          "data": {
            "text/plain": [
              "['city_name',\n",
              " 'store_id',\n",
              " 'category_id',\n",
              " 'product_id',\n",
              " 'weather_desc',\n",
              " 'day_of_week',\n",
              " 'weekend',\n",
              " 'dayofyear',\n",
              " 'day',\n",
              " 'month',\n",
              " 'is_month_start',\n",
              " 'is_month_end',\n",
              " 'year',\n",
              " 'quarter',\n",
              " 'season']"
            ]
          },
          "execution_count": 114,
          "metadata": {},
          "output_type": "execute_result"
        }
      ],
      "source": [
        "cat_feats = [\n",
        "    col\n",
        "    for col in train_df.drop(columns=\"sales\").columns\n",
        "    if train_df[col].dtype in (\"O\", \"int64\", \"bool\")\n",
        "]\n",
        "cat_feats"
      ]
    },
    {
      "cell_type": "code",
      "execution_count": null,
      "metadata": {
        "id": "U3NUw0v2_xdd"
      },
      "outputs": [],
      "source": [
        "params = dict(\n",
        "    # TODO: add more default params for Catboost\n",
        "    n_estimators=200,\n",
        "    learning_rate=0.05,\n",
        "    depth=11,\n",
        "    random_state=11,\n",
        "    cat_features=cat_feats,\n",
        "    eval_metric=WapeMetric(),\n",
        ")\n",
        "\n",
        "params.update(best_params_cb)\n",
        "\n",
        "model_cb = cb.CatBoostRegressor(**params)"
      ]
    },
    {
      "cell_type": "code",
      "execution_count": null,
      "metadata": {
        "colab": {
          "base_uri": "https://localhost:8080/"
        },
        "id": "T2Gntf5LA-Cf",
        "outputId": "3e7f18ca-bb21-413b-ca4a-293cba29433b"
      },
      "outputs": [
        {
          "name": "stdout",
          "output_type": "stream",
          "text": [
            "0:\tlearn: 85.1430000\ttest: 76.9040000\tbest: 76.9040000 (0)\ttotal: 2.68s\tremaining: 8m 52s\n",
            "1:\tlearn: 83.6810000\ttest: 75.2290000\tbest: 75.2290000 (1)\ttotal: 5.63s\tremaining: 9m 17s\n",
            "2:\tlearn: 77.8470000\ttest: 70.4520000\tbest: 70.4520000 (2)\ttotal: 9.95s\tremaining: 10m 53s\n",
            "3:\tlearn: 76.2520000\ttest: 68.5720000\tbest: 68.5720000 (3)\ttotal: 14.6s\tremaining: 11m 56s\n",
            "4:\tlearn: 74.4460000\ttest: 66.8510000\tbest: 66.8510000 (4)\ttotal: 17.3s\tremaining: 11m 16s\n",
            "5:\tlearn: 69.9280000\ttest: 63.2900000\tbest: 63.2900000 (5)\ttotal: 19.5s\tremaining: 10m 29s\n",
            "6:\tlearn: 67.9520000\ttest: 61.2710000\tbest: 61.2710000 (6)\ttotal: 22.2s\tremaining: 10m 11s\n",
            "7:\tlearn: 66.5730000\ttest: 59.7330000\tbest: 59.7330000 (7)\ttotal: 24.8s\tremaining: 9m 55s\n",
            "8:\tlearn: 64.4980000\ttest: 58.2740000\tbest: 58.2740000 (8)\ttotal: 26.5s\tremaining: 9m 22s\n",
            "9:\tlearn: 61.6830000\ttest: 55.6880000\tbest: 55.6880000 (9)\ttotal: 28.4s\tremaining: 8m 58s\n",
            "10:\tlearn: 60.1000000\ttest: 54.1260000\tbest: 54.1260000 (10)\ttotal: 30.1s\tremaining: 8m 36s\n",
            "11:\tlearn: 58.8580000\ttest: 52.7390000\tbest: 52.7390000 (11)\ttotal: 31.7s\tremaining: 8m 17s\n",
            "12:\tlearn: 57.8650000\ttest: 51.7490000\tbest: 51.7490000 (12)\ttotal: 33.6s\tremaining: 8m 2s\n",
            "13:\tlearn: 55.7520000\ttest: 50.3570000\tbest: 50.3570000 (13)\ttotal: 36s\tremaining: 7m 58s\n",
            "14:\tlearn: 53.9450000\ttest: 48.6740000\tbest: 48.6740000 (14)\ttotal: 38.4s\tremaining: 7m 53s\n",
            "15:\tlearn: 52.9290000\ttest: 47.5010000\tbest: 47.5010000 (15)\ttotal: 40.2s\tremaining: 7m 42s\n",
            "16:\tlearn: 52.0600000\ttest: 46.5010000\tbest: 46.5010000 (16)\ttotal: 42.2s\tremaining: 7m 33s\n",
            "17:\tlearn: 51.3130000\ttest: 45.6500000\tbest: 45.6500000 (17)\ttotal: 43.8s\tremaining: 7m 22s\n",
            "18:\tlearn: 50.3710000\ttest: 44.9030000\tbest: 44.9030000 (18)\ttotal: 45.6s\tremaining: 7m 14s\n",
            "19:\tlearn: 48.8960000\ttest: 43.9130000\tbest: 43.9130000 (19)\ttotal: 47.3s\tremaining: 7m 5s\n",
            "20:\tlearn: 47.7770000\ttest: 42.9570000\tbest: 42.9570000 (20)\ttotal: 49.7s\tremaining: 7m 3s\n",
            "21:\tlearn: 46.8860000\ttest: 42.0760000\tbest: 42.0760000 (21)\ttotal: 51.9s\tremaining: 7m\n",
            "22:\tlearn: 46.2320000\ttest: 41.4430000\tbest: 41.4430000 (22)\ttotal: 53.9s\tremaining: 6m 54s\n",
            "23:\tlearn: 45.6890000\ttest: 40.8660000\tbest: 40.8660000 (23)\ttotal: 55.8s\tremaining: 6m 49s\n",
            "24:\tlearn: 45.0700000\ttest: 40.2320000\tbest: 40.2320000 (24)\ttotal: 57.7s\tremaining: 6m 43s\n",
            "25:\tlearn: 44.3590000\ttest: 39.7970000\tbest: 39.7970000 (25)\ttotal: 59.4s\tremaining: 6m 37s\n",
            "26:\tlearn: 43.6050000\ttest: 39.2010000\tbest: 39.2010000 (26)\ttotal: 1m 1s\tremaining: 6m 32s\n",
            "27:\tlearn: 42.9820000\ttest: 38.7270000\tbest: 38.7270000 (27)\ttotal: 1m 4s\tremaining: 6m 34s\n",
            "28:\tlearn: 42.5150000\ttest: 38.3470000\tbest: 38.3470000 (28)\ttotal: 1m 6s\tremaining: 6m 30s\n",
            "29:\tlearn: 42.0560000\ttest: 37.8840000\tbest: 37.8840000 (29)\ttotal: 1m 8s\tremaining: 6m 27s\n",
            "30:\tlearn: 41.6420000\ttest: 37.5610000\tbest: 37.5610000 (30)\ttotal: 1m 11s\tremaining: 6m 30s\n",
            "31:\tlearn: 41.2730000\ttest: 37.4680000\tbest: 37.4680000 (31)\ttotal: 1m 14s\tremaining: 6m 33s\n",
            "32:\tlearn: 40.9200000\ttest: 37.2370000\tbest: 37.2370000 (32)\ttotal: 1m 18s\tremaining: 6m 35s\n",
            "33:\tlearn: 40.5530000\ttest: 37.0110000\tbest: 37.0110000 (33)\ttotal: 1m 19s\tremaining: 6m 29s\n",
            "34:\tlearn: 40.2000000\ttest: 36.7520000\tbest: 36.7520000 (34)\ttotal: 1m 21s\tremaining: 6m 26s\n",
            "35:\tlearn: 39.8840000\ttest: 36.6460000\tbest: 36.6460000 (35)\ttotal: 1m 23s\tremaining: 6m 22s\n",
            "36:\tlearn: 39.5570000\ttest: 36.2980000\tbest: 36.2980000 (36)\ttotal: 1m 26s\tremaining: 6m 22s\n",
            "37:\tlearn: 39.2830000\ttest: 35.9030000\tbest: 35.9030000 (37)\ttotal: 1m 30s\tremaining: 6m 27s\n",
            "38:\tlearn: 39.0520000\ttest: 35.7940000\tbest: 35.7940000 (38)\ttotal: 1m 33s\tremaining: 6m 24s\n",
            "39:\tlearn: 38.8270000\ttest: 35.5690000\tbest: 35.5690000 (39)\ttotal: 1m 35s\tremaining: 6m 20s\n",
            "40:\tlearn: 38.6300000\ttest: 35.4780000\tbest: 35.4780000 (40)\ttotal: 1m 37s\tremaining: 6m 17s\n",
            "41:\tlearn: 38.4310000\ttest: 35.3290000\tbest: 35.3290000 (41)\ttotal: 1m 39s\tremaining: 6m 12s\n",
            "42:\tlearn: 38.2430000\ttest: 35.1520000\tbest: 35.1520000 (42)\ttotal: 1m 42s\tremaining: 6m 13s\n",
            "43:\tlearn: 38.0850000\ttest: 34.9980000\tbest: 34.9980000 (43)\ttotal: 1m 46s\tremaining: 6m 17s\n",
            "44:\tlearn: 37.9290000\ttest: 34.9130000\tbest: 34.9130000 (44)\ttotal: 1m 49s\tremaining: 6m 16s\n",
            "45:\tlearn: 37.7570000\ttest: 34.7660000\tbest: 34.7660000 (45)\ttotal: 1m 51s\tremaining: 6m 12s\n",
            "46:\tlearn: 37.6200000\ttest: 34.6540000\tbest: 34.6540000 (46)\ttotal: 1m 54s\tremaining: 6m 11s\n",
            "47:\tlearn: 37.4270000\ttest: 34.5710000\tbest: 34.5710000 (47)\ttotal: 1m 57s\tremaining: 6m 12s\n",
            "48:\tlearn: 37.2250000\ttest: 34.4560000\tbest: 34.4560000 (48)\ttotal: 1m 59s\tremaining: 6m 9s\n",
            "49:\tlearn: 37.0380000\ttest: 34.4590000\tbest: 34.4560000 (48)\ttotal: 2m 1s\tremaining: 6m 5s\n",
            "50:\tlearn: 36.8600000\ttest: 34.3210000\tbest: 34.3210000 (50)\ttotal: 2m 4s\tremaining: 6m 5s\n",
            "51:\tlearn: 36.7100000\ttest: 34.3180000\tbest: 34.3180000 (51)\ttotal: 2m 8s\tremaining: 6m 4s\n",
            "52:\tlearn: 36.5660000\ttest: 34.2880000\tbest: 34.2880000 (52)\ttotal: 2m 11s\tremaining: 6m 5s\n",
            "53:\tlearn: 36.4250000\ttest: 34.2060000\tbest: 34.2060000 (53)\ttotal: 2m 13s\tremaining: 6m 1s\n",
            "54:\tlearn: 36.3080000\ttest: 34.1510000\tbest: 34.1510000 (54)\ttotal: 2m 15s\tremaining: 5m 57s\n",
            "55:\tlearn: 36.2010000\ttest: 34.0650000\tbest: 34.0650000 (55)\ttotal: 2m 17s\tremaining: 5m 53s\n",
            "56:\tlearn: 36.0840000\ttest: 34.0230000\tbest: 34.0230000 (56)\ttotal: 2m 19s\tremaining: 5m 50s\n",
            "57:\tlearn: 35.9790000\ttest: 34.0070000\tbest: 34.0070000 (57)\ttotal: 2m 22s\tremaining: 5m 48s\n",
            "58:\tlearn: 35.8690000\ttest: 33.9840000\tbest: 33.9840000 (58)\ttotal: 2m 25s\tremaining: 5m 48s\n",
            "59:\tlearn: 35.7730000\ttest: 33.9330000\tbest: 33.9330000 (59)\ttotal: 2m 27s\tremaining: 5m 45s\n",
            "60:\tlearn: 35.6790000\ttest: 33.8990000\tbest: 33.8990000 (60)\ttotal: 2m 29s\tremaining: 5m 41s\n",
            "61:\tlearn: 35.5930000\ttest: 33.7810000\tbest: 33.7810000 (61)\ttotal: 2m 31s\tremaining: 5m 37s\n",
            "62:\tlearn: 35.5060000\ttest: 33.8200000\tbest: 33.7810000 (61)\ttotal: 2m 34s\tremaining: 5m 35s\n",
            "63:\tlearn: 35.4220000\ttest: 33.8080000\tbest: 33.7810000 (61)\ttotal: 2m 37s\tremaining: 5m 33s\n",
            "64:\tlearn: 35.3390000\ttest: 33.8050000\tbest: 33.7810000 (61)\ttotal: 2m 40s\tremaining: 5m 32s\n",
            "65:\tlearn: 35.2580000\ttest: 33.7940000\tbest: 33.7810000 (61)\ttotal: 2m 42s\tremaining: 5m 29s\n",
            "66:\tlearn: 35.1770000\ttest: 33.7430000\tbest: 33.7430000 (66)\ttotal: 2m 45s\tremaining: 5m 27s\n",
            "67:\tlearn: 35.0980000\ttest: 33.6840000\tbest: 33.6840000 (67)\ttotal: 2m 47s\tremaining: 5m 24s\n",
            "68:\tlearn: 35.0330000\ttest: 33.6680000\tbest: 33.6680000 (68)\ttotal: 2m 49s\tremaining: 5m 22s\n",
            "69:\tlearn: 34.9670000\ttest: 33.6960000\tbest: 33.6680000 (68)\ttotal: 2m 53s\tremaining: 5m 21s\n",
            "70:\tlearn: 34.9030000\ttest: 33.7130000\tbest: 33.6680000 (68)\ttotal: 2m 56s\tremaining: 5m 19s\n",
            "71:\tlearn: 34.8420000\ttest: 33.7080000\tbest: 33.6680000 (68)\ttotal: 2m 58s\tremaining: 5m 16s\n",
            "72:\tlearn: 34.7880000\ttest: 33.7820000\tbest: 33.6680000 (68)\ttotal: 3m\tremaining: 5m 14s\n",
            "73:\tlearn: 34.7360000\ttest: 33.7570000\tbest: 33.6680000 (68)\ttotal: 3m 3s\tremaining: 5m 12s\n",
            "74:\tlearn: 34.6920000\ttest: 33.7680000\tbest: 33.6680000 (68)\ttotal: 3m 6s\tremaining: 5m 11s\n",
            "75:\tlearn: 34.6260000\ttest: 33.7590000\tbest: 33.6680000 (68)\ttotal: 3m 9s\tremaining: 5m 8s\n",
            "76:\tlearn: 34.5730000\ttest: 33.7700000\tbest: 33.6680000 (68)\ttotal: 3m 11s\tremaining: 5m 6s\n",
            "77:\tlearn: 34.5150000\ttest: 33.6800000\tbest: 33.6680000 (68)\ttotal: 3m 14s\tremaining: 5m 4s\n",
            "78:\tlearn: 34.4820000\ttest: 33.6590000\tbest: 33.6590000 (78)\ttotal: 3m 17s\tremaining: 5m 1s\n",
            "79:\tlearn: 34.4300000\ttest: 33.6750000\tbest: 33.6590000 (78)\ttotal: 3m 20s\tremaining: 5m\n",
            "80:\tlearn: 34.3900000\ttest: 33.7060000\tbest: 33.6590000 (78)\ttotal: 3m 22s\tremaining: 4m 57s\n",
            "81:\tlearn: 34.3390000\ttest: 33.7010000\tbest: 33.6590000 (78)\ttotal: 3m 25s\tremaining: 4m 55s\n",
            "82:\tlearn: 34.2950000\ttest: 33.7080000\tbest: 33.6590000 (78)\ttotal: 3m 27s\tremaining: 4m 52s\n",
            "83:\tlearn: 34.2400000\ttest: 33.6560000\tbest: 33.6560000 (83)\ttotal: 3m 30s\tremaining: 4m 50s\n",
            "84:\tlearn: 34.1870000\ttest: 33.6660000\tbest: 33.6560000 (83)\ttotal: 3m 33s\tremaining: 4m 49s\n",
            "85:\tlearn: 34.1270000\ttest: 33.6800000\tbest: 33.6560000 (83)\ttotal: 3m 36s\tremaining: 4m 46s\n",
            "86:\tlearn: 34.0710000\ttest: 33.7420000\tbest: 33.6560000 (83)\ttotal: 3m 38s\tremaining: 4m 43s\n",
            "87:\tlearn: 34.0340000\ttest: 33.7850000\tbest: 33.6560000 (83)\ttotal: 3m 40s\tremaining: 4m 41s\n",
            "88:\tlearn: 34.0030000\ttest: 33.7940000\tbest: 33.6560000 (83)\ttotal: 3m 43s\tremaining: 4m 38s\n",
            "89:\tlearn: 33.9550000\ttest: 33.7430000\tbest: 33.6560000 (83)\ttotal: 3m 46s\tremaining: 4m 37s\n",
            "90:\tlearn: 33.9100000\ttest: 33.7330000\tbest: 33.6560000 (83)\ttotal: 3m 49s\tremaining: 4m 35s\n",
            "91:\tlearn: 33.8630000\ttest: 33.6750000\tbest: 33.6560000 (83)\ttotal: 3m 52s\tremaining: 4m 32s\n",
            "92:\tlearn: 33.8370000\ttest: 33.6910000\tbest: 33.6560000 (83)\ttotal: 3m 55s\tremaining: 4m 30s\n",
            "93:\tlearn: 33.7900000\ttest: 33.6760000\tbest: 33.6560000 (83)\ttotal: 3m 58s\tremaining: 4m 29s\n",
            "94:\tlearn: 33.7500000\ttest: 33.6790000\tbest: 33.6560000 (83)\ttotal: 4m 1s\tremaining: 4m 26s\n",
            "95:\tlearn: 33.7240000\ttest: 33.6870000\tbest: 33.6560000 (83)\ttotal: 4m 3s\tremaining: 4m 24s\n",
            "96:\tlearn: 33.6980000\ttest: 33.7100000\tbest: 33.6560000 (83)\ttotal: 4m 6s\tremaining: 4m 21s\n",
            "97:\tlearn: 33.6800000\ttest: 33.7300000\tbest: 33.6560000 (83)\ttotal: 4m 8s\tremaining: 4m 18s\n",
            "98:\tlearn: 33.6470000\ttest: 33.7800000\tbest: 33.6560000 (83)\ttotal: 4m 12s\tremaining: 4m 18s\n",
            "99:\tlearn: 33.6090000\ttest: 33.7690000\tbest: 33.6560000 (83)\ttotal: 4m 15s\tremaining: 4m 15s\n",
            "100:\tlearn: 33.5780000\ttest: 33.7590000\tbest: 33.6560000 (83)\ttotal: 4m 17s\tremaining: 4m 12s\n",
            "101:\tlearn: 33.5470000\ttest: 33.7560000\tbest: 33.6560000 (83)\ttotal: 4m 20s\tremaining: 4m 10s\n",
            "102:\tlearn: 33.5290000\ttest: 33.7460000\tbest: 33.6560000 (83)\ttotal: 4m 22s\tremaining: 4m 7s\n",
            "103:\tlearn: 33.5010000\ttest: 33.7060000\tbest: 33.6560000 (83)\ttotal: 4m 26s\tremaining: 4m 6s\n",
            "104:\tlearn: 33.4540000\ttest: 33.6620000\tbest: 33.6560000 (83)\ttotal: 4m 29s\tremaining: 4m 3s\n",
            "105:\tlearn: 33.4340000\ttest: 33.6910000\tbest: 33.6560000 (83)\ttotal: 4m 32s\tremaining: 4m 1s\n",
            "106:\tlearn: 33.4080000\ttest: 33.6790000\tbest: 33.6560000 (83)\ttotal: 4m 34s\tremaining: 3m 58s\n",
            "107:\tlearn: 33.3860000\ttest: 33.7440000\tbest: 33.6560000 (83)\ttotal: 4m 37s\tremaining: 3m 56s\n",
            "108:\tlearn: 33.3690000\ttest: 33.7580000\tbest: 33.6560000 (83)\ttotal: 4m 41s\tremaining: 3m 54s\n",
            "109:\tlearn: 33.3390000\ttest: 33.7590000\tbest: 33.6560000 (83)\ttotal: 4m 43s\tremaining: 3m 52s\n",
            "110:\tlearn: 33.3190000\ttest: 33.7690000\tbest: 33.6560000 (83)\ttotal: 4m 45s\tremaining: 3m 49s\n",
            "111:\tlearn: 33.2940000\ttest: 33.8850000\tbest: 33.6560000 (83)\ttotal: 4m 48s\tremaining: 3m 46s\n",
            "112:\tlearn: 33.2670000\ttest: 33.8690000\tbest: 33.6560000 (83)\ttotal: 4m 55s\tremaining: 3m 47s\n",
            "113:\tlearn: 33.2570000\ttest: 33.8770000\tbest: 33.6560000 (83)\ttotal: 5m\tremaining: 3m 46s\n",
            "Stopped by overfitting detector  (30 iterations wait)\n",
            "\n",
            "bestTest = 33.656\n",
            "bestIteration = 83\n",
            "\n",
            "Shrink model to first 84 iterations.\n"
          ]
        },
        {
          "data": {
            "text/plain": [
              "<catboost.core.CatBoostRegressor at 0x7f315827fb80>"
            ]
          },
          "execution_count": 165,
          "metadata": {},
          "output_type": "execute_result"
        }
      ],
      "source": [
        "model_cb.fit(\n",
        "    train_df.drop(columns=\"sales\"),\n",
        "    train_df.sales,\n",
        "    eval_set=(eval_df.drop(columns=\"sales\"), eval_df.sales),\n",
        "    early_stopping_rounds=30,\n",
        "    # plot=True\n",
        ")"
      ]
    },
    {
      "cell_type": "code",
      "execution_count": null,
      "metadata": {
        "id": "tiPRB_ewFNly"
      },
      "outputs": [],
      "source": [
        "test_df[\"predicted_cb\"] = model_cb.predict(test_df.drop(columns=\"sales\"))"
      ]
    },
    {
      "cell_type": "code",
      "execution_count": null,
      "metadata": {
        "colab": {
          "base_uri": "https://localhost:8080/"
        },
        "id": "uE_DkMZ5vECB",
        "outputId": "9dc6bef3-2f36-45e2-bed8-b216260cba7b"
      },
      "outputs": [
        {
          "data": {
            "text/plain": [
              "33.811"
            ]
          },
          "execution_count": 169,
          "metadata": {},
          "output_type": "execute_result"
        }
      ],
      "source": [
        "wape_f(test_df[\"sales\"], test_df[\"predicted_cb\"])"
      ]
    },
    {
      "cell_type": "code",
      "execution_count": null,
      "metadata": {
        "colab": {
          "base_uri": "https://localhost:8080/",
          "height": 417
        },
        "id": "ZWD3dx7bLPKH",
        "outputId": "13067b8a-5ce4-413f-fc28-427f13cac347"
      },
      "outputs": [
        {
          "data": {
            "text/html": [
              "<html>\n",
              "<head><meta charset=\"utf-8\" /></head>\n",
              "<body>\n",
              "    <div>            <script src=\"https://cdnjs.cloudflare.com/ajax/libs/mathjax/2.7.5/MathJax.js?config=TeX-AMS-MML_SVG\"></script><script type=\"text/javascript\">if (window.MathJax && window.MathJax.Hub && window.MathJax.Hub.Config) {window.MathJax.Hub.Config({SVG: {font: \"STIX-Web\"}});}</script>                <script type=\"text/javascript\">window.PlotlyConfig = {MathJaxConfig: 'local'};</script>\n",
              "        <script charset=\"utf-8\" src=\"https://cdn.plot.ly/plotly-2.24.1.min.js\"></script>                <div id=\"1039ec55-4127-4036-9c07-773435618a20\" class=\"plotly-graph-div\" style=\"height:400px; width:700px;\"></div>            <script type=\"text/javascript\">                                    window.PLOTLYENV=window.PLOTLYENV || {};                                    if (document.getElementById(\"1039ec55-4127-4036-9c07-773435618a20\")) {                    Plotly.newPlot(                        \"1039ec55-4127-4036-9c07-773435618a20\",                        [{\"marker\":{\"color\":\"rgba(0, 0, 0, .6)\"},\"mode\":\"lines+markers\",\"name\":\"True values\",\"x\":[0,1,2,3,4,5,6],\"y\":[22,27,26,24,42,29,35],\"type\":\"scatter\"},{\"mode\":\"lines+markers\",\"name\":\"Predicted\",\"x\":[0,1,2,3,4,5,6],\"y\":[19.622709824039273,26.23227848739814,19.363553677097507,19.477370896224585,32.66491101078871,33.50983495380392,32.59556639906569],\"type\":\"scatter\"}],                        {\"template\":{\"data\":{\"histogram2dcontour\":[{\"type\":\"histogram2dcontour\",\"colorbar\":{\"outlinewidth\":0,\"ticks\":\"\"},\"colorscale\":[[0.0,\"#0d0887\"],[0.1111111111111111,\"#46039f\"],[0.2222222222222222,\"#7201a8\"],[0.3333333333333333,\"#9c179e\"],[0.4444444444444444,\"#bd3786\"],[0.5555555555555556,\"#d8576b\"],[0.6666666666666666,\"#ed7953\"],[0.7777777777777778,\"#fb9f3a\"],[0.8888888888888888,\"#fdca26\"],[1.0,\"#f0f921\"]]}],\"choropleth\":[{\"type\":\"choropleth\",\"colorbar\":{\"outlinewidth\":0,\"ticks\":\"\"}}],\"histogram2d\":[{\"type\":\"histogram2d\",\"colorbar\":{\"outlinewidth\":0,\"ticks\":\"\"},\"colorscale\":[[0.0,\"#0d0887\"],[0.1111111111111111,\"#46039f\"],[0.2222222222222222,\"#7201a8\"],[0.3333333333333333,\"#9c179e\"],[0.4444444444444444,\"#bd3786\"],[0.5555555555555556,\"#d8576b\"],[0.6666666666666666,\"#ed7953\"],[0.7777777777777778,\"#fb9f3a\"],[0.8888888888888888,\"#fdca26\"],[1.0,\"#f0f921\"]]}],\"heatmap\":[{\"type\":\"heatmap\",\"colorbar\":{\"outlinewidth\":0,\"ticks\":\"\"},\"colorscale\":[[0.0,\"#0d0887\"],[0.1111111111111111,\"#46039f\"],[0.2222222222222222,\"#7201a8\"],[0.3333333333333333,\"#9c179e\"],[0.4444444444444444,\"#bd3786\"],[0.5555555555555556,\"#d8576b\"],[0.6666666666666666,\"#ed7953\"],[0.7777777777777778,\"#fb9f3a\"],[0.8888888888888888,\"#fdca26\"],[1.0,\"#f0f921\"]]}],\"heatmapgl\":[{\"type\":\"heatmapgl\",\"colorbar\":{\"outlinewidth\":0,\"ticks\":\"\"},\"colorscale\":[[0.0,\"#0d0887\"],[0.1111111111111111,\"#46039f\"],[0.2222222222222222,\"#7201a8\"],[0.3333333333333333,\"#9c179e\"],[0.4444444444444444,\"#bd3786\"],[0.5555555555555556,\"#d8576b\"],[0.6666666666666666,\"#ed7953\"],[0.7777777777777778,\"#fb9f3a\"],[0.8888888888888888,\"#fdca26\"],[1.0,\"#f0f921\"]]}],\"contourcarpet\":[{\"type\":\"contourcarpet\",\"colorbar\":{\"outlinewidth\":0,\"ticks\":\"\"}}],\"contour\":[{\"type\":\"contour\",\"colorbar\":{\"outlinewidth\":0,\"ticks\":\"\"},\"colorscale\":[[0.0,\"#0d0887\"],[0.1111111111111111,\"#46039f\"],[0.2222222222222222,\"#7201a8\"],[0.3333333333333333,\"#9c179e\"],[0.4444444444444444,\"#bd3786\"],[0.5555555555555556,\"#d8576b\"],[0.6666666666666666,\"#ed7953\"],[0.7777777777777778,\"#fb9f3a\"],[0.8888888888888888,\"#fdca26\"],[1.0,\"#f0f921\"]]}],\"surface\":[{\"type\":\"surface\",\"colorbar\":{\"outlinewidth\":0,\"ticks\":\"\"},\"colorscale\":[[0.0,\"#0d0887\"],[0.1111111111111111,\"#46039f\"],[0.2222222222222222,\"#7201a8\"],[0.3333333333333333,\"#9c179e\"],[0.4444444444444444,\"#bd3786\"],[0.5555555555555556,\"#d8576b\"],[0.6666666666666666,\"#ed7953\"],[0.7777777777777778,\"#fb9f3a\"],[0.8888888888888888,\"#fdca26\"],[1.0,\"#f0f921\"]]}],\"mesh3d\":[{\"type\":\"mesh3d\",\"colorbar\":{\"outlinewidth\":0,\"ticks\":\"\"}}],\"scatter\":[{\"fillpattern\":{\"fillmode\":\"overlay\",\"size\":10,\"solidity\":0.2},\"type\":\"scatter\"}],\"parcoords\":[{\"type\":\"parcoords\",\"line\":{\"colorbar\":{\"outlinewidth\":0,\"ticks\":\"\"}}}],\"scatterpolargl\":[{\"type\":\"scatterpolargl\",\"marker\":{\"colorbar\":{\"outlinewidth\":0,\"ticks\":\"\"}}}],\"bar\":[{\"error_x\":{\"color\":\"#2a3f5f\"},\"error_y\":{\"color\":\"#2a3f5f\"},\"marker\":{\"line\":{\"color\":\"#E5ECF6\",\"width\":0.5},\"pattern\":{\"fillmode\":\"overlay\",\"size\":10,\"solidity\":0.2}},\"type\":\"bar\"}],\"scattergeo\":[{\"type\":\"scattergeo\",\"marker\":{\"colorbar\":{\"outlinewidth\":0,\"ticks\":\"\"}}}],\"scatterpolar\":[{\"type\":\"scatterpolar\",\"marker\":{\"colorbar\":{\"outlinewidth\":0,\"ticks\":\"\"}}}],\"histogram\":[{\"marker\":{\"pattern\":{\"fillmode\":\"overlay\",\"size\":10,\"solidity\":0.2}},\"type\":\"histogram\"}],\"scattergl\":[{\"type\":\"scattergl\",\"marker\":{\"colorbar\":{\"outlinewidth\":0,\"ticks\":\"\"}}}],\"scatter3d\":[{\"type\":\"scatter3d\",\"line\":{\"colorbar\":{\"outlinewidth\":0,\"ticks\":\"\"}},\"marker\":{\"colorbar\":{\"outlinewidth\":0,\"ticks\":\"\"}}}],\"scattermapbox\":[{\"type\":\"scattermapbox\",\"marker\":{\"colorbar\":{\"outlinewidth\":0,\"ticks\":\"\"}}}],\"scatterternary\":[{\"type\":\"scatterternary\",\"marker\":{\"colorbar\":{\"outlinewidth\":0,\"ticks\":\"\"}}}],\"scattercarpet\":[{\"type\":\"scattercarpet\",\"marker\":{\"colorbar\":{\"outlinewidth\":0,\"ticks\":\"\"}}}],\"carpet\":[{\"aaxis\":{\"endlinecolor\":\"#2a3f5f\",\"gridcolor\":\"white\",\"linecolor\":\"white\",\"minorgridcolor\":\"white\",\"startlinecolor\":\"#2a3f5f\"},\"baxis\":{\"endlinecolor\":\"#2a3f5f\",\"gridcolor\":\"white\",\"linecolor\":\"white\",\"minorgridcolor\":\"white\",\"startlinecolor\":\"#2a3f5f\"},\"type\":\"carpet\"}],\"table\":[{\"cells\":{\"fill\":{\"color\":\"#EBF0F8\"},\"line\":{\"color\":\"white\"}},\"header\":{\"fill\":{\"color\":\"#C8D4E3\"},\"line\":{\"color\":\"white\"}},\"type\":\"table\"}],\"barpolar\":[{\"marker\":{\"line\":{\"color\":\"#E5ECF6\",\"width\":0.5},\"pattern\":{\"fillmode\":\"overlay\",\"size\":10,\"solidity\":0.2}},\"type\":\"barpolar\"}],\"pie\":[{\"automargin\":true,\"type\":\"pie\"}]},\"layout\":{\"autotypenumbers\":\"strict\",\"colorway\":[\"#636efa\",\"#EF553B\",\"#00cc96\",\"#ab63fa\",\"#FFA15A\",\"#19d3f3\",\"#FF6692\",\"#B6E880\",\"#FF97FF\",\"#FECB52\"],\"font\":{\"color\":\"#2a3f5f\"},\"hovermode\":\"closest\",\"hoverlabel\":{\"align\":\"left\"},\"paper_bgcolor\":\"white\",\"plot_bgcolor\":\"#E5ECF6\",\"polar\":{\"bgcolor\":\"#E5ECF6\",\"angularaxis\":{\"gridcolor\":\"white\",\"linecolor\":\"white\",\"ticks\":\"\"},\"radialaxis\":{\"gridcolor\":\"white\",\"linecolor\":\"white\",\"ticks\":\"\"}},\"ternary\":{\"bgcolor\":\"#E5ECF6\",\"aaxis\":{\"gridcolor\":\"white\",\"linecolor\":\"white\",\"ticks\":\"\"},\"baxis\":{\"gridcolor\":\"white\",\"linecolor\":\"white\",\"ticks\":\"\"},\"caxis\":{\"gridcolor\":\"white\",\"linecolor\":\"white\",\"ticks\":\"\"}},\"coloraxis\":{\"colorbar\":{\"outlinewidth\":0,\"ticks\":\"\"}},\"colorscale\":{\"sequential\":[[0.0,\"#0d0887\"],[0.1111111111111111,\"#46039f\"],[0.2222222222222222,\"#7201a8\"],[0.3333333333333333,\"#9c179e\"],[0.4444444444444444,\"#bd3786\"],[0.5555555555555556,\"#d8576b\"],[0.6666666666666666,\"#ed7953\"],[0.7777777777777778,\"#fb9f3a\"],[0.8888888888888888,\"#fdca26\"],[1.0,\"#f0f921\"]],\"sequentialminus\":[[0.0,\"#0d0887\"],[0.1111111111111111,\"#46039f\"],[0.2222222222222222,\"#7201a8\"],[0.3333333333333333,\"#9c179e\"],[0.4444444444444444,\"#bd3786\"],[0.5555555555555556,\"#d8576b\"],[0.6666666666666666,\"#ed7953\"],[0.7777777777777778,\"#fb9f3a\"],[0.8888888888888888,\"#fdca26\"],[1.0,\"#f0f921\"]],\"diverging\":[[0,\"#8e0152\"],[0.1,\"#c51b7d\"],[0.2,\"#de77ae\"],[0.3,\"#f1b6da\"],[0.4,\"#fde0ef\"],[0.5,\"#f7f7f7\"],[0.6,\"#e6f5d0\"],[0.7,\"#b8e186\"],[0.8,\"#7fbc41\"],[0.9,\"#4d9221\"],[1,\"#276419\"]]},\"xaxis\":{\"gridcolor\":\"white\",\"linecolor\":\"white\",\"ticks\":\"\",\"title\":{\"standoff\":15},\"zerolinecolor\":\"white\",\"automargin\":true,\"zerolinewidth\":2},\"yaxis\":{\"gridcolor\":\"white\",\"linecolor\":\"white\",\"ticks\":\"\",\"title\":{\"standoff\":15},\"zerolinecolor\":\"white\",\"automargin\":true,\"zerolinewidth\":2},\"scene\":{\"xaxis\":{\"backgroundcolor\":\"#E5ECF6\",\"gridcolor\":\"white\",\"linecolor\":\"white\",\"showbackground\":true,\"ticks\":\"\",\"zerolinecolor\":\"white\",\"gridwidth\":2},\"yaxis\":{\"backgroundcolor\":\"#E5ECF6\",\"gridcolor\":\"white\",\"linecolor\":\"white\",\"showbackground\":true,\"ticks\":\"\",\"zerolinecolor\":\"white\",\"gridwidth\":2},\"zaxis\":{\"backgroundcolor\":\"#E5ECF6\",\"gridcolor\":\"white\",\"linecolor\":\"white\",\"showbackground\":true,\"ticks\":\"\",\"zerolinecolor\":\"white\",\"gridwidth\":2}},\"shapedefaults\":{\"line\":{\"color\":\"#2a3f5f\"}},\"annotationdefaults\":{\"arrowcolor\":\"#2a3f5f\",\"arrowhead\":0,\"arrowwidth\":1},\"geo\":{\"bgcolor\":\"white\",\"landcolor\":\"#E5ECF6\",\"subunitcolor\":\"white\",\"showland\":true,\"showlakes\":true,\"lakecolor\":\"white\"},\"title\":{\"x\":0.05},\"mapbox\":{\"style\":\"light\"}}},\"title\":{\"text\":\"Predictions of ML model\",\"y\":0.95,\"x\":0.5,\"xanchor\":\"center\",\"yanchor\":\"top\"},\"margin\":{\"l\":40,\"r\":10,\"t\":40,\"b\":40},\"legend\":{\"orientation\":\"h\",\"yanchor\":\"middle\",\"y\":-0.2,\"xanchor\":\"center\",\"x\":0.5},\"xaxis\":{\"title\":{\"text\":\"Days\"}},\"yaxis\":{\"title\":{\"text\":\"Sales\"}},\"height\":400,\"width\":700},                        {\"responsive\": true}                    ).then(function(){\n",
              "                            \n",
              "var gd = document.getElementById('1039ec55-4127-4036-9c07-773435618a20');\n",
              "var x = new MutationObserver(function (mutations, observer) {{\n",
              "        var display = window.getComputedStyle(gd).display;\n",
              "        if (!display || display === 'none') {{\n",
              "            console.log([gd, 'removed!']);\n",
              "            Plotly.purge(gd);\n",
              "            observer.disconnect();\n",
              "        }}\n",
              "}});\n",
              "\n",
              "// Listen for the removal of the full notebook cells\n",
              "var notebookContainer = gd.closest('#notebook-container');\n",
              "if (notebookContainer) {{\n",
              "    x.observe(notebookContainer, {childList: true});\n",
              "}}\n",
              "\n",
              "// Listen for the clearing of the current output cell\n",
              "var outputEl = gd.closest('.output');\n",
              "if (outputEl) {{\n",
              "    x.observe(outputEl, {childList: true});\n",
              "}}\n",
              "\n",
              "                        })                };                            </script>        </div>\n",
              "</body>\n",
              "</html>"
            ]
          },
          "metadata": {},
          "output_type": "display_data"
        }
      ],
      "source": [
        "sample = test_df[(test_df.store_id == 1) & (test_df.product_id == 1)].reset_index(\n",
        "    drop=True\n",
        ")\n",
        "\n",
        "fig = go.Figure(\n",
        "    [\n",
        "        go.Scatter(\n",
        "            x=sample.index,\n",
        "            y=sample.sales,\n",
        "            name=\"True values\",\n",
        "            mode=\"lines+markers\",\n",
        "            marker_color=\"rgba(0, 0, 0, .6)\",\n",
        "            # showlegend=False,\n",
        "        ),\n",
        "        go.Scatter(\n",
        "            x=sample.index,\n",
        "            y=sample.predicted_cb,\n",
        "            name=\"Predicted\",\n",
        "            # opacity=0.6,\n",
        "            mode=\"lines+markers\",\n",
        "        ),\n",
        "    ]\n",
        ")\n",
        "# modify layout of the graph\n",
        "fig.update_layout(\n",
        "    title={\n",
        "        \"text\": \"Predictions of ML model\",\n",
        "        \"y\": 0.95,\n",
        "        \"x\": 0.5,\n",
        "        \"xanchor\": \"center\",\n",
        "        \"yanchor\": \"top\",\n",
        "    },\n",
        "    margin=dict(l=40, r=10, t=40, b=40),\n",
        "    legend=dict(\n",
        "        orientation=\"h\",\n",
        "        yanchor=\"middle\",\n",
        "        y=-0.2,\n",
        "        xanchor=\"center\",\n",
        "        x=0.5,\n",
        "    ),\n",
        "    xaxis_title=\"Days\",\n",
        "    yaxis_title=\"Sales\",\n",
        "    height=400,\n",
        "    width=700,\n",
        ")\n",
        "fig.show()"
      ]
    },
    {
      "cell_type": "code",
      "execution_count": null,
      "metadata": {
        "colab": {
          "base_uri": "https://localhost:8080/",
          "height": 462
        },
        "id": "lP7W94KGP79M",
        "outputId": "4566a620-ea0e-46e9-d6a4-7553ad3cfd73"
      },
      "outputs": [
        {
          "data": {
            "text/plain": [
              "<Axes: ylabel='names'>"
            ]
          },
          "execution_count": 171,
          "metadata": {},
          "output_type": "execute_result"
        },
        {
          "data": {
            "image/png": "[encoded data removed]",
            "text/plain": [
              "<Figure size 500x500 with 1 Axes>"
            ]
          },
          "metadata": {},
          "output_type": "display_data"
        }
      ],
      "source": [
        "pd.DataFrame(\n",
        "    {\"importances\": model_cb.feature_importances_, \"names\": model_cb.feature_names_}\n",
        ").sort_values(\"importances\")[-30:].plot.barh(y=\"importances\", x=\"names\", figsize=(5, 5))"
      ]
    },
    {
      "cell_type": "markdown",
      "metadata": {
        "id": "IreNpGjna5n1"
      },
      "source": [
        "### LightGBM model"
      ]
    },
    {
      "cell_type": "code",
      "execution_count": null,
      "metadata": {
        "id": "GIq9WRcXbAU-"
      },
      "outputs": [],
      "source": [
        "params = dict(\n",
        "    objective=\"tweedie\",\n",
        "    metric=\"None\",\n",
        "    learning_rate=0.05,\n",
        "    max_depth=11,\n",
        "    boosting_type=\"gbdt\",\n",
        "    num_leaves=30,\n",
        "    n_estimators=200,\n",
        "    n_jobs=8,\n",
        "    random_state=11,\n",
        ")\n",
        "\n",
        "params.update(best_params_lgb)\n",
        "\n",
        "model_lgb = lgb.LGBMRegressor(**params)"
      ]
    },
    {
      "cell_type": "code",
      "execution_count": null,
      "metadata": {
        "id": "3JJmGJd0d0Ub"
      },
      "outputs": [],
      "source": [
        "def custom_metric(y_pred: np.ndarray, y_true: np.ndarray):\n",
        "    \"\"\"_summary_\n",
        "\n",
        "    Args:\n",
        "        y_pred (np.ndarray): _description_\n",
        "        y_true (np.ndarray): _description_\n",
        "\n",
        "    Returns:\n",
        "        Tuple[str, float, bool]: _description_\n",
        "    \"\"\"  # TODO: describe\n",
        "\n",
        "    return \"wape\", wape_f(y_true, y_pred), False"
      ]
    },
    {
      "cell_type": "code",
      "execution_count": null,
      "metadata": {
        "id": "myBljSLRfCi5"
      },
      "outputs": [],
      "source": [
        "city_list = train_df.city_name.unique().tolist()\n",
        "waether_list = train_df.weather_desc.unique().tolist()\n",
        "days_list = train_df.day_of_week.unique().tolist()\n",
        "season_list = train_df.season.unique().tolist()\n",
        "\n",
        "for df in [train_df, eval_df, test_df]:\n",
        "\n",
        "    df[\"city_name\"].replace(city_list, range(len(city_list)), inplace=True)\n",
        "    df[\"weather_desc\"].replace(waether_list, range(len(waether_list)), inplace=True)\n",
        "    df[\"day_of_week\"].replace(days_list, range(len(days_list)), inplace=True)\n",
        "    df[\"season\"].replace(season_list, range(len(season_list)), inplace=True)"
      ]
    },
    {
      "cell_type": "code",
      "execution_count": null,
      "metadata": {
        "id": "1K95kIQMczHC"
      },
      "outputs": [],
      "source": [
        "fit_params = dict(\n",
        "    X=train_df.drop(columns=\"sales\"),\n",
        "    y=train_df.sales,\n",
        "    categorical_feature=cat_feats,\n",
        ")\n",
        "\n",
        "d_eval = dict(\n",
        "    eval_set=(eval_df.drop(columns=\"sales\"), eval_df.sales),\n",
        "    eval_names=\"eval_df\",\n",
        "    eval_metric=custom_metric,\n",
        "    callbacks=[\n",
        "        lgb.log_evaluation(),\n",
        "        lgb.early_stopping(stopping_rounds=30, verbose=True),\n",
        "    ],\n",
        ")\n",
        "\n",
        "fit_params.update(d_eval)\n",
        "\n",
        "\n",
        "model_lgb.fit(**fit_params)"
      ]
    },
    {
      "cell_type": "code",
      "execution_count": null,
      "metadata": {
        "id": "ghRhxWHJjw3X"
      },
      "outputs": [],
      "source": [
        "test_df[\"predicted_lgb\"] = model_lgb.predict(test_df.drop(columns=\"sales\"))"
      ]
    },
    {
      "cell_type": "code",
      "execution_count": null,
      "metadata": {
        "colab": {
          "base_uri": "https://localhost:8080/"
        },
        "id": "6xBwbAm2jw3g",
        "outputId": "1408e09b-a99b-4697-e2e8-cdf62aa9cbb7"
      },
      "outputs": [
        {
          "data": {
            "text/plain": [
              "32.007"
            ]
          },
          "execution_count": 53,
          "metadata": {},
          "output_type": "execute_result"
        }
      ],
      "source": [
        "wape_f(test_df[\"sales\"], test_df[\"predicted_lgb\"])"
      ]
    },
    {
      "cell_type": "code",
      "execution_count": null,
      "metadata": {
        "colab": {
          "base_uri": "https://localhost:8080/",
          "height": 417
        },
        "id": "7v9HxPR4jw3g",
        "outputId": "2638f975-168e-43da-e666-f49107ff2a3f"
      },
      "outputs": [
        {
          "data": {
            "text/html": [
              "<html>\n",
              "<head><meta charset=\"utf-8\" /></head>\n",
              "<body>\n",
              "    <div>            <script src=\"https://cdnjs.cloudflare.com/ajax/libs/mathjax/2.7.5/MathJax.js?config=TeX-AMS-MML_SVG\"></script><script type=\"text/javascript\">if (window.MathJax && window.MathJax.Hub && window.MathJax.Hub.Config) {window.MathJax.Hub.Config({SVG: {font: \"STIX-Web\"}});}</script>                <script type=\"text/javascript\">window.PlotlyConfig = {MathJaxConfig: 'local'};</script>\n",
              "        <script charset=\"utf-8\" src=\"https://cdn.plot.ly/plotly-2.24.1.min.js\"></script>                <div id=\"4fb702af-b091-4011-ba41-861793aa6736\" class=\"plotly-graph-div\" style=\"height:400px; width:700px;\"></div>            <script type=\"text/javascript\">                                    window.PLOTLYENV=window.PLOTLYENV || {};                                    if (document.getElementById(\"4fb702af-b091-4011-ba41-861793aa6736\")) {                    Plotly.newPlot(                        \"4fb702af-b091-4011-ba41-861793aa6736\",                        [{\"marker\":{\"color\":\"rgba(0, 0, 0, .6)\"},\"mode\":\"lines+markers\",\"name\":\"True values\",\"x\":[0,1,2,3,4,5,6],\"y\":[22,27,26,24,42,29,35],\"type\":\"scatter\"},{\"mode\":\"lines+markers\",\"name\":\"Predicted\",\"x\":[0,1,2,3,4,5,6],\"y\":[21.90214462973928,27.044530912311444,18.673742973504876,21.226754284372415,37.535534931851686,36.6594981324744,29.8130607167235],\"type\":\"scatter\"}],                        {\"template\":{\"data\":{\"histogram2dcontour\":[{\"type\":\"histogram2dcontour\",\"colorbar\":{\"outlinewidth\":0,\"ticks\":\"\"},\"colorscale\":[[0.0,\"#0d0887\"],[0.1111111111111111,\"#46039f\"],[0.2222222222222222,\"#7201a8\"],[0.3333333333333333,\"#9c179e\"],[0.4444444444444444,\"#bd3786\"],[0.5555555555555556,\"#d8576b\"],[0.6666666666666666,\"#ed7953\"],[0.7777777777777778,\"#fb9f3a\"],[0.8888888888888888,\"#fdca26\"],[1.0,\"#f0f921\"]]}],\"choropleth\":[{\"type\":\"choropleth\",\"colorbar\":{\"outlinewidth\":0,\"ticks\":\"\"}}],\"histogram2d\":[{\"type\":\"histogram2d\",\"colorbar\":{\"outlinewidth\":0,\"ticks\":\"\"},\"colorscale\":[[0.0,\"#0d0887\"],[0.1111111111111111,\"#46039f\"],[0.2222222222222222,\"#7201a8\"],[0.3333333333333333,\"#9c179e\"],[0.4444444444444444,\"#bd3786\"],[0.5555555555555556,\"#d8576b\"],[0.6666666666666666,\"#ed7953\"],[0.7777777777777778,\"#fb9f3a\"],[0.8888888888888888,\"#fdca26\"],[1.0,\"#f0f921\"]]}],\"heatmap\":[{\"type\":\"heatmap\",\"colorbar\":{\"outlinewidth\":0,\"ticks\":\"\"},\"colorscale\":[[0.0,\"#0d0887\"],[0.1111111111111111,\"#46039f\"],[0.2222222222222222,\"#7201a8\"],[0.3333333333333333,\"#9c179e\"],[0.4444444444444444,\"#bd3786\"],[0.5555555555555556,\"#d8576b\"],[0.6666666666666666,\"#ed7953\"],[0.7777777777777778,\"#fb9f3a\"],[0.8888888888888888,\"#fdca26\"],[1.0,\"#f0f921\"]]}],\"heatmapgl\":[{\"type\":\"heatmapgl\",\"colorbar\":{\"outlinewidth\":0,\"ticks\":\"\"},\"colorscale\":[[0.0,\"#0d0887\"],[0.1111111111111111,\"#46039f\"],[0.2222222222222222,\"#7201a8\"],[0.3333333333333333,\"#9c179e\"],[0.4444444444444444,\"#bd3786\"],[0.5555555555555556,\"#d8576b\"],[0.6666666666666666,\"#ed7953\"],[0.7777777777777778,\"#fb9f3a\"],[0.8888888888888888,\"#fdca26\"],[1.0,\"#f0f921\"]]}],\"contourcarpet\":[{\"type\":\"contourcarpet\",\"colorbar\":{\"outlinewidth\":0,\"ticks\":\"\"}}],\"contour\":[{\"type\":\"contour\",\"colorbar\":{\"outlinewidth\":0,\"ticks\":\"\"},\"colorscale\":[[0.0,\"#0d0887\"],[0.1111111111111111,\"#46039f\"],[0.2222222222222222,\"#7201a8\"],[0.3333333333333333,\"#9c179e\"],[0.4444444444444444,\"#bd3786\"],[0.5555555555555556,\"#d8576b\"],[0.6666666666666666,\"#ed7953\"],[0.7777777777777778,\"#fb9f3a\"],[0.8888888888888888,\"#fdca26\"],[1.0,\"#f0f921\"]]}],\"surface\":[{\"type\":\"surface\",\"colorbar\":{\"outlinewidth\":0,\"ticks\":\"\"},\"colorscale\":[[0.0,\"#0d0887\"],[0.1111111111111111,\"#46039f\"],[0.2222222222222222,\"#7201a8\"],[0.3333333333333333,\"#9c179e\"],[0.4444444444444444,\"#bd3786\"],[0.5555555555555556,\"#d8576b\"],[0.6666666666666666,\"#ed7953\"],[0.7777777777777778,\"#fb9f3a\"],[0.8888888888888888,\"#fdca26\"],[1.0,\"#f0f921\"]]}],\"mesh3d\":[{\"type\":\"mesh3d\",\"colorbar\":{\"outlinewidth\":0,\"ticks\":\"\"}}],\"scatter\":[{\"fillpattern\":{\"fillmode\":\"overlay\",\"size\":10,\"solidity\":0.2},\"type\":\"scatter\"}],\"parcoords\":[{\"type\":\"parcoords\",\"line\":{\"colorbar\":{\"outlinewidth\":0,\"ticks\":\"\"}}}],\"scatterpolargl\":[{\"type\":\"scatterpolargl\",\"marker\":{\"colorbar\":{\"outlinewidth\":0,\"ticks\":\"\"}}}],\"bar\":[{\"error_x\":{\"color\":\"#2a3f5f\"},\"error_y\":{\"color\":\"#2a3f5f\"},\"marker\":{\"line\":{\"color\":\"#E5ECF6\",\"width\":0.5},\"pattern\":{\"fillmode\":\"overlay\",\"size\":10,\"solidity\":0.2}},\"type\":\"bar\"}],\"scattergeo\":[{\"type\":\"scattergeo\",\"marker\":{\"colorbar\":{\"outlinewidth\":0,\"ticks\":\"\"}}}],\"scatterpolar\":[{\"type\":\"scatterpolar\",\"marker\":{\"colorbar\":{\"outlinewidth\":0,\"ticks\":\"\"}}}],\"histogram\":[{\"marker\":{\"pattern\":{\"fillmode\":\"overlay\",\"size\":10,\"solidity\":0.2}},\"type\":\"histogram\"}],\"scattergl\":[{\"type\":\"scattergl\",\"marker\":{\"colorbar\":{\"outlinewidth\":0,\"ticks\":\"\"}}}],\"scatter3d\":[{\"type\":\"scatter3d\",\"line\":{\"colorbar\":{\"outlinewidth\":0,\"ticks\":\"\"}},\"marker\":{\"colorbar\":{\"outlinewidth\":0,\"ticks\":\"\"}}}],\"scattermapbox\":[{\"type\":\"scattermapbox\",\"marker\":{\"colorbar\":{\"outlinewidth\":0,\"ticks\":\"\"}}}],\"scatterternary\":[{\"type\":\"scatterternary\",\"marker\":{\"colorbar\":{\"outlinewidth\":0,\"ticks\":\"\"}}}],\"scattercarpet\":[{\"type\":\"scattercarpet\",\"marker\":{\"colorbar\":{\"outlinewidth\":0,\"ticks\":\"\"}}}],\"carpet\":[{\"aaxis\":{\"endlinecolor\":\"#2a3f5f\",\"gridcolor\":\"white\",\"linecolor\":\"white\",\"minorgridcolor\":\"white\",\"startlinecolor\":\"#2a3f5f\"},\"baxis\":{\"endlinecolor\":\"#2a3f5f\",\"gridcolor\":\"white\",\"linecolor\":\"white\",\"minorgridcolor\":\"white\",\"startlinecolor\":\"#2a3f5f\"},\"type\":\"carpet\"}],\"table\":[{\"cells\":{\"fill\":{\"color\":\"#EBF0F8\"},\"line\":{\"color\":\"white\"}},\"header\":{\"fill\":{\"color\":\"#C8D4E3\"},\"line\":{\"color\":\"white\"}},\"type\":\"table\"}],\"barpolar\":[{\"marker\":{\"line\":{\"color\":\"#E5ECF6\",\"width\":0.5},\"pattern\":{\"fillmode\":\"overlay\",\"size\":10,\"solidity\":0.2}},\"type\":\"barpolar\"}],\"pie\":[{\"automargin\":true,\"type\":\"pie\"}]},\"layout\":{\"autotypenumbers\":\"strict\",\"colorway\":[\"#636efa\",\"#EF553B\",\"#00cc96\",\"#ab63fa\",\"#FFA15A\",\"#19d3f3\",\"#FF6692\",\"#B6E880\",\"#FF97FF\",\"#FECB52\"],\"font\":{\"color\":\"#2a3f5f\"},\"hovermode\":\"closest\",\"hoverlabel\":{\"align\":\"left\"},\"paper_bgcolor\":\"white\",\"plot_bgcolor\":\"#E5ECF6\",\"polar\":{\"bgcolor\":\"#E5ECF6\",\"angularaxis\":{\"gridcolor\":\"white\",\"linecolor\":\"white\",\"ticks\":\"\"},\"radialaxis\":{\"gridcolor\":\"white\",\"linecolor\":\"white\",\"ticks\":\"\"}},\"ternary\":{\"bgcolor\":\"#E5ECF6\",\"aaxis\":{\"gridcolor\":\"white\",\"linecolor\":\"white\",\"ticks\":\"\"},\"baxis\":{\"gridcolor\":\"white\",\"linecolor\":\"white\",\"ticks\":\"\"},\"caxis\":{\"gridcolor\":\"white\",\"linecolor\":\"white\",\"ticks\":\"\"}},\"coloraxis\":{\"colorbar\":{\"outlinewidth\":0,\"ticks\":\"\"}},\"colorscale\":{\"sequential\":[[0.0,\"#0d0887\"],[0.1111111111111111,\"#46039f\"],[0.2222222222222222,\"#7201a8\"],[0.3333333333333333,\"#9c179e\"],[0.4444444444444444,\"#bd3786\"],[0.5555555555555556,\"#d8576b\"],[0.6666666666666666,\"#ed7953\"],[0.7777777777777778,\"#fb9f3a\"],[0.8888888888888888,\"#fdca26\"],[1.0,\"#f0f921\"]],\"sequentialminus\":[[0.0,\"#0d0887\"],[0.1111111111111111,\"#46039f\"],[0.2222222222222222,\"#7201a8\"],[0.3333333333333333,\"#9c179e\"],[0.4444444444444444,\"#bd3786\"],[0.5555555555555556,\"#d8576b\"],[0.6666666666666666,\"#ed7953\"],[0.7777777777777778,\"#fb9f3a\"],[0.8888888888888888,\"#fdca26\"],[1.0,\"#f0f921\"]],\"diverging\":[[0,\"#8e0152\"],[0.1,\"#c51b7d\"],[0.2,\"#de77ae\"],[0.3,\"#f1b6da\"],[0.4,\"#fde0ef\"],[0.5,\"#f7f7f7\"],[0.6,\"#e6f5d0\"],[0.7,\"#b8e186\"],[0.8,\"#7fbc41\"],[0.9,\"#4d9221\"],[1,\"#276419\"]]},\"xaxis\":{\"gridcolor\":\"white\",\"linecolor\":\"white\",\"ticks\":\"\",\"title\":{\"standoff\":15},\"zerolinecolor\":\"white\",\"automargin\":true,\"zerolinewidth\":2},\"yaxis\":{\"gridcolor\":\"white\",\"linecolor\":\"white\",\"ticks\":\"\",\"title\":{\"standoff\":15},\"zerolinecolor\":\"white\",\"automargin\":true,\"zerolinewidth\":2},\"scene\":{\"xaxis\":{\"backgroundcolor\":\"#E5ECF6\",\"gridcolor\":\"white\",\"linecolor\":\"white\",\"showbackground\":true,\"ticks\":\"\",\"zerolinecolor\":\"white\",\"gridwidth\":2},\"yaxis\":{\"backgroundcolor\":\"#E5ECF6\",\"gridcolor\":\"white\",\"linecolor\":\"white\",\"showbackground\":true,\"ticks\":\"\",\"zerolinecolor\":\"white\",\"gridwidth\":2},\"zaxis\":{\"backgroundcolor\":\"#E5ECF6\",\"gridcolor\":\"white\",\"linecolor\":\"white\",\"showbackground\":true,\"ticks\":\"\",\"zerolinecolor\":\"white\",\"gridwidth\":2}},\"shapedefaults\":{\"line\":{\"color\":\"#2a3f5f\"}},\"annotationdefaults\":{\"arrowcolor\":\"#2a3f5f\",\"arrowhead\":0,\"arrowwidth\":1},\"geo\":{\"bgcolor\":\"white\",\"landcolor\":\"#E5ECF6\",\"subunitcolor\":\"white\",\"showland\":true,\"showlakes\":true,\"lakecolor\":\"white\"},\"title\":{\"x\":0.05},\"mapbox\":{\"style\":\"light\"}}},\"title\":{\"text\":\"Predictions of ML model\",\"y\":0.95,\"x\":0.5,\"xanchor\":\"center\",\"yanchor\":\"top\"},\"margin\":{\"l\":40,\"r\":10,\"t\":40,\"b\":40},\"legend\":{\"orientation\":\"h\",\"yanchor\":\"middle\",\"y\":-0.2,\"xanchor\":\"center\",\"x\":0.5},\"xaxis\":{\"title\":{\"text\":\"Days\"}},\"yaxis\":{\"title\":{\"text\":\"Sales\"}},\"height\":400,\"width\":700},                        {\"responsive\": true}                    ).then(function(){\n",
              "                            \n",
              "var gd = document.getElementById('4fb702af-b091-4011-ba41-861793aa6736');\n",
              "var x = new MutationObserver(function (mutations, observer) {{\n",
              "        var display = window.getComputedStyle(gd).display;\n",
              "        if (!display || display === 'none') {{\n",
              "            console.log([gd, 'removed!']);\n",
              "            Plotly.purge(gd);\n",
              "            observer.disconnect();\n",
              "        }}\n",
              "}});\n",
              "\n",
              "// Listen for the removal of the full notebook cells\n",
              "var notebookContainer = gd.closest('#notebook-container');\n",
              "if (notebookContainer) {{\n",
              "    x.observe(notebookContainer, {childList: true});\n",
              "}}\n",
              "\n",
              "// Listen for the clearing of the current output cell\n",
              "var outputEl = gd.closest('.output');\n",
              "if (outputEl) {{\n",
              "    x.observe(outputEl, {childList: true});\n",
              "}}\n",
              "\n",
              "                        })                };                            </script>        </div>\n",
              "</body>\n",
              "</html>"
            ]
          },
          "metadata": {},
          "output_type": "display_data"
        }
      ],
      "source": [
        "sample = test_df[\n",
        "    (test_df.store_id == 1)\n",
        "    & (test_df.product_id == 1)\n",
        "    & (test_df.day > test_df.day.min())\n",
        "].reset_index(drop=True)\n",
        "\n",
        "fig = go.Figure(\n",
        "    [\n",
        "        go.Scatter(\n",
        "            x=sample.index,\n",
        "            y=sample.sales,\n",
        "            name=\"True values\",\n",
        "            mode=\"lines+markers\",\n",
        "            marker_color=\"rgba(0, 0, 0, .6)\",\n",
        "            # showlegend=False,\n",
        "        ),\n",
        "        go.Scatter(\n",
        "            x=sample.index,\n",
        "            y=sample.predicted_lgb,\n",
        "            name=\"Predicted\",\n",
        "            # opacity=0.6,\n",
        "            mode=\"lines+markers\",\n",
        "        ),\n",
        "    ]\n",
        ")\n",
        "# modify layout of the graph\n",
        "fig.update_layout(\n",
        "    title={\n",
        "        \"text\": \"Predictions of ML model\",\n",
        "        \"y\": 0.95,\n",
        "        \"x\": 0.5,\n",
        "        \"xanchor\": \"center\",\n",
        "        \"yanchor\": \"top\",\n",
        "    },\n",
        "    margin=dict(l=40, r=10, t=40, b=40),\n",
        "    legend=dict(\n",
        "        orientation=\"h\",\n",
        "        yanchor=\"middle\",\n",
        "        y=-0.2,\n",
        "        xanchor=\"center\",\n",
        "        x=0.5,\n",
        "    ),\n",
        "    xaxis_title=\"Days\",\n",
        "    yaxis_title=\"Sales\",\n",
        "    height=400,\n",
        "    width=700,\n",
        ")\n",
        "fig.show()"
      ]
    },
    {
      "cell_type": "markdown",
      "metadata": {
        "id": "v7DyLeMgr4oc"
      },
      "source": [
        "## Results"
      ]
    },
    {
      "cell_type": "markdown",
      "metadata": {
        "id": "zoC8uyzeS2li"
      },
      "source": [
        "- Compared two popular gradient boosting models (LightGBM and CatBoost).\n",
        "- Models demonstrated similar accuracy metrics of test dataframe. \n",
        "- However, LightGBM was significantly faster to train and tune; and slightly more accurate"
      ]
    }
  ],
  "metadata": {
    "colab": {
      "collapsed_sections": [
        "c3Y04J10YzzO",
        "iSeEwm0uT43N",
        "Gpp7CApnhHgv",
        "Bb2U82B_hO0g",
        "UihxRKzBBuxu",
        "omJ5-WMyCG8y",
        "0n-3lpJlw_8N",
        "VS6UzyEtxFq9",
        "pgGcW5B_a1nk",
        "IreNpGjna5n1",
        "H5eacwjOFfCZ",
        "amoR2kZcFG7m"
      ],
      "provenance": []
    },
    "kernelspec": {
      "display_name": "Python 3 (ipykernel)",
      "language": "python",
      "name": "python3"
    },
    "language_info": {
      "codemirror_mode": {
        "name": "ipython",
        "version": 3
      },
      "file_extension": ".py",
      "mimetype": "text/x-python",
      "name": "python",
      "nbconvert_exporter": "python",
      "pygments_lexer": "ipython3",
      "version": "3.12.7"
    }
  },
  "nbformat": 4,
  "nbformat_minor": 0
}
