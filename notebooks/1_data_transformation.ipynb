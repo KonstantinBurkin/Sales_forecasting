{
  "cells": [
    {
      "cell_type": "markdown",
      "metadata": {
        "id": "c3Y04J10YzzO"
      },
      "source": [
        "## Import"
      ]
    },
    {
      "cell_type": "code",
      "execution_count": 5,
      "metadata": {
        "cellView": "code",
        "id": "FkKO14NvRle_"
      },
      "outputs": [],
      "source": [
        "import numpy as np\n",
        "import pandas as pd\n",
        "import matplotlib.pyplot as plt\n",
        "\n",
        "# ignore warnings when graphs are plotted\n",
        "import warnings\n",
        "\n",
        "warnings.filterwarnings(\"ignore\")"
      ]
    },
    {
      "cell_type": "markdown",
      "metadata": {},
      "source": [
        "## Read data"
      ]
    },
    {
      "cell_type": "code",
      "execution_count": 7,
      "metadata": {
        "id": "Rxn0Lfm2abWs"
      },
      "outputs": [],
      "source": [
        "# Read csv files\n",
        "data = pd.read_csv(\"../data/train.csv\", index_col=0).reset_index(drop=True)\n",
        "\n",
        "# Transform city names to english format\n",
        "cities_rus_to_eng = {\n",
        "    \"Москва\": \"Moscow\",\n",
        "    \"Санкт-Петербург\": \"St.Petersburg\",\n",
        "    \"Краснодар\": \"Krasnodar\",\n",
        "    \"Самара\": \"Samara\",\n",
        "    \"Нижний Новгород\": \"Nizhny.Novgorod\",\n",
        "    \"Ростов-на-Дону\": \"Rostov-on-Don\",\n",
        "    \"Волгоград\": \"Volgograd\",\n",
        "    \"Воронеж\": \"Voronezh\",\n",
        "    \"Казань\": \"Kazan\",\n",
        "    \"Екатеринбург\": \"Yekaterinburg\",\n",
        "}\n",
        "data = data.replace(cities_rus_to_eng)\n",
        "\n",
        "# Transform weather description to english format\n",
        "weather_rus_to_eng = {\n",
        "    \"переменная облачность, небольшой дождь\": \"partly cloudy, light rain\",\n",
        "    \"переменная облачность\": \"partly cloudy\",\n",
        "    \"облачно, небольшой дождь\": \"cloudy, light rain\",\n",
        "    \"дождь, гроза\": \"rain, thunderstorm\",\n",
        "    \"облачно, без существенных осадков\": \"cloudy, no significant precipitation\",\n",
        "    \"переменная облачность, дождь\": \"partly cloudy, rain\",\n",
        "    \"дождь\": \"rain\",\n",
        "    \"облачно\": \"cloudy\",\n",
        "    \"ясно\": \"clear\",\n",
        "    \"облачно, небольшой снег\": \"cloudy, light snow\",\n",
        "    \"переменная облачность, небольшие осадки\": \"partly cloudy, light precipitation\",\n",
        "    \"облачно, небольшие осадки\": \"cloudy, slight precipitation\",\n",
        "    \"снег\": \"snow\",\n",
        "    \"метель\": \"blizzard\",\n",
        "    \"осадки\": \"rainfall\",\n",
        "    \"переменная облачность, небольшой снег\": \"partly cloudy, light snow\",\n",
        "}\n",
        "data = data.replace(weather_rus_to_eng)"
      ]
    },
    {
      "cell_type": "code",
      "execution_count": 8,
      "metadata": {
        "colab": {
          "base_uri": "https://localhost:8080/",
          "height": 206
        },
        "id": "qic9bX5M_m78",
        "outputId": "889b91e8-a68d-410d-9b89-cbdedda4a1ff"
      },
      "outputs": [
        {
          "data": {
            "text/html": [
              "<div>\n",
              "<style scoped>\n",
              "    .dataframe tbody tr th:only-of-type {\n",
              "        vertical-align: middle;\n",
              "    }\n",
              "\n",
              "    .dataframe tbody tr th {\n",
              "        vertical-align: top;\n",
              "    }\n",
              "\n",
              "    .dataframe thead th {\n",
              "        text-align: right;\n",
              "    }\n",
              "</style>\n",
              "<table border=\"1\" class=\"dataframe\">\n",
              "  <thead>\n",
              "    <tr style=\"text-align: right;\">\n",
              "      <th></th>\n",
              "      <th>date</th>\n",
              "      <th>city_name</th>\n",
              "      <th>store_id</th>\n",
              "      <th>category_id</th>\n",
              "      <th>product_id</th>\n",
              "      <th>price</th>\n",
              "      <th>weather_desc</th>\n",
              "      <th>humidity</th>\n",
              "      <th>temperature</th>\n",
              "      <th>pressure</th>\n",
              "      <th>sales</th>\n",
              "    </tr>\n",
              "  </thead>\n",
              "  <tbody>\n",
              "    <tr>\n",
              "      <th>0</th>\n",
              "      <td>2021-07-29</td>\n",
              "      <td>Moscow</td>\n",
              "      <td>1</td>\n",
              "      <td>1</td>\n",
              "      <td>1</td>\n",
              "      <td>4.79</td>\n",
              "      <td>partly cloudy, light rain</td>\n",
              "      <td>61.9375</td>\n",
              "      <td>23.1875</td>\n",
              "      <td>741.0000</td>\n",
              "      <td>26</td>\n",
              "    </tr>\n",
              "    <tr>\n",
              "      <th>1</th>\n",
              "      <td>2021-07-30</td>\n",
              "      <td>Moscow</td>\n",
              "      <td>1</td>\n",
              "      <td>1</td>\n",
              "      <td>1</td>\n",
              "      <td>4.79</td>\n",
              "      <td>partly cloudy, light rain</td>\n",
              "      <td>70.2500</td>\n",
              "      <td>22.1875</td>\n",
              "      <td>740.3125</td>\n",
              "      <td>37</td>\n",
              "    </tr>\n",
              "    <tr>\n",
              "      <th>2</th>\n",
              "      <td>2021-07-31</td>\n",
              "      <td>Moscow</td>\n",
              "      <td>1</td>\n",
              "      <td>1</td>\n",
              "      <td>1</td>\n",
              "      <td>4.79</td>\n",
              "      <td>partly cloudy</td>\n",
              "      <td>52.6250</td>\n",
              "      <td>21.8125</td>\n",
              "      <td>741.6250</td>\n",
              "      <td>25</td>\n",
              "    </tr>\n",
              "    <tr>\n",
              "      <th>3</th>\n",
              "      <td>2021-08-01</td>\n",
              "      <td>Moscow</td>\n",
              "      <td>1</td>\n",
              "      <td>1</td>\n",
              "      <td>1</td>\n",
              "      <td>4.79</td>\n",
              "      <td>cloudy, light rain</td>\n",
              "      <td>87.4375</td>\n",
              "      <td>20.0625</td>\n",
              "      <td>743.3125</td>\n",
              "      <td>26</td>\n",
              "    </tr>\n",
              "    <tr>\n",
              "      <th>4</th>\n",
              "      <td>2021-08-02</td>\n",
              "      <td>Moscow</td>\n",
              "      <td>1</td>\n",
              "      <td>1</td>\n",
              "      <td>1</td>\n",
              "      <td>4.79</td>\n",
              "      <td>partly cloudy</td>\n",
              "      <td>66.1875</td>\n",
              "      <td>23.4375</td>\n",
              "      <td>739.6250</td>\n",
              "      <td>22</td>\n",
              "    </tr>\n",
              "  </tbody>\n",
              "</table>\n",
              "</div>"
            ],
            "text/plain": [
              "         date city_name  store_id  category_id  product_id  price  \\\n",
              "0  2021-07-29    Moscow         1            1           1   4.79   \n",
              "1  2021-07-30    Moscow         1            1           1   4.79   \n",
              "2  2021-07-31    Moscow         1            1           1   4.79   \n",
              "3  2021-08-01    Moscow         1            1           1   4.79   \n",
              "4  2021-08-02    Moscow         1            1           1   4.79   \n",
              "\n",
              "                weather_desc  humidity  temperature  pressure  sales  \n",
              "0  partly cloudy, light rain   61.9375      23.1875  741.0000     26  \n",
              "1  partly cloudy, light rain   70.2500      22.1875  740.3125     37  \n",
              "2              partly cloudy   52.6250      21.8125  741.6250     25  \n",
              "3         cloudy, light rain   87.4375      20.0625  743.3125     26  \n",
              "4              partly cloudy   66.1875      23.4375  739.6250     22  "
            ]
          },
          "execution_count": 8,
          "metadata": {},
          "output_type": "execute_result"
        }
      ],
      "source": [
        "# check data sample\n",
        "data.head()"
      ]
    },
    {
      "cell_type": "markdown",
      "metadata": {
        "id": "jleZOhgTBrpf"
      },
      "source": [
        "## Data transformation"
      ]
    },
    {
      "cell_type": "markdown",
      "metadata": {
        "id": "UihxRKzBBuxu"
      },
      "source": [
        "### Feature engineering"
      ]
    },
    {
      "cell_type": "code",
      "execution_count": 9,
      "metadata": {
        "id": "BHJst6BpBxPg"
      },
      "outputs": [],
      "source": [
        "# categorical time features\n",
        "data[\"date\"] = pd.to_datetime(data.date)\n",
        "data[\"day_of_week\"] = data[\"date\"].dt.dayofweek + 1\n",
        "data[\"weekend\"] = data[\"date\"].dt.dayofweek > 4\n",
        "data[\"dayofyear\"] = data[\"date\"].dt.dayofyear\n",
        "data[\"day\"] = data[\"date\"].dt.day\n",
        "data[\"month\"] = data[\"date\"].dt.month\n",
        "data[\"is_month_start\"] = data[\"date\"].dt.is_month_start\n",
        "data[\"is_month_end\"] = data[\"date\"].dt.is_month_end\n",
        "data[\"year\"] = data[\"date\"].dt.year\n",
        "data[\"quarter\"] = data[\"date\"].dt.quarter\n",
        "data[\"season\"] = np.where(\n",
        "    data[\"date\"].dt.month.isin([1, 2, 12]),\n",
        "    \"winter\",\n",
        "    np.where(\n",
        "        data[\"date\"].dt.month.isin([3, 4, 5]),\n",
        "        \"spring\",\n",
        "        np.where(data[\"date\"].dt.month.isin([6, 7, 8]), \"summer\", \"autumn\"),\n",
        "    ),\n",
        ")"
      ]
    },
    {
      "cell_type": "code",
      "execution_count": 10,
      "metadata": {
        "id": "OVNV_A5tR_fD"
      },
      "outputs": [],
      "source": [
        "# lag features for sales\n",
        "for i in [7, 14, 21]:\n",
        "    data[f\"sales_lag_{int(i/7)}_week\"] = data.groupby(\n",
        "        [\n",
        "            \"store_id\",\n",
        "            \"product_id\",\n",
        "        ],\n",
        "        as_index=False,\n",
        "    )[\"sales\"].shift(i)\n",
        "\n",
        "data[\"median_lag\"] = data[[f\"sales_lag_{int(i/7)}_week\" for i in [7, 14, 21]]].median(\n",
        "    axis=1\n",
        ")"
      ]
    },
    {
      "cell_type": "code",
      "execution_count": 11,
      "metadata": {
        "colab": {
          "base_uri": "https://localhost:8080/"
        },
        "id": "iX9AhwphL_Nr",
        "outputId": "d66709cb-96ae-4bb9-ecaa-a237f894ccc1"
      },
      "outputs": [
        {
          "data": {
            "text/plain": [
              "date                    0\n",
              "city_name               0\n",
              "store_id                0\n",
              "category_id             0\n",
              "product_id              0\n",
              "price                   0\n",
              "weather_desc            0\n",
              "humidity                0\n",
              "temperature             0\n",
              "pressure                0\n",
              "sales                   0\n",
              "day_of_week             0\n",
              "weekend                 0\n",
              "dayofyear               0\n",
              "day                     0\n",
              "month                   0\n",
              "is_month_start          0\n",
              "is_month_end            0\n",
              "year                    0\n",
              "quarter                 0\n",
              "season                  0\n",
              "sales_lag_1_week    24836\n",
              "sales_lag_2_week    49672\n",
              "sales_lag_3_week    74508\n",
              "median_lag          24836\n",
              "dtype: int64"
            ]
          },
          "execution_count": 11,
          "metadata": {},
          "output_type": "execute_result"
        }
      ],
      "source": [
        "data.isna().sum()"
      ]
    },
    {
      "cell_type": "code",
      "execution_count": 12,
      "metadata": {
        "id": "CA5NeO2fMA6d"
      },
      "outputs": [],
      "source": [
        "data.dropna(axis=0, inplace=True)"
      ]
    },
    {
      "cell_type": "code",
      "execution_count": null,
      "metadata": {
        "id": "lQYUc0NESDQ7"
      },
      "outputs": [],
      "source": [
        "# one hot encoding\n",
        "# skip for CatBoost"
      ]
    },
    {
      "cell_type": "markdown",
      "metadata": {
        "id": "omJ5-WMyCG8y"
      },
      "source": [
        "### Spliting"
      ]
    },
    {
      "cell_type": "code",
      "execution_count": 13,
      "metadata": {
        "id": "AWda_Y8a-boT"
      },
      "outputs": [],
      "source": [
        "test_cut_date = str(data.date.max() - pd.DateOffset(days=6))[:10]\n",
        "eval_cut_date = str(data.date.max() - pd.DateOffset(days=13))[:10]\n",
        "train_df = (\n",
        "    data[(data.date < eval_cut_date)]\n",
        "    # .drop(columns=['date'])\n",
        "    .reset_index(drop=True)\n",
        ")\n",
        "\n",
        "eval_df = (\n",
        "    data[(data.date >= eval_cut_date) & (data.date < test_cut_date)].reset_index(\n",
        "        drop=True\n",
        "    )\n",
        "    # .drop(columns=['date'])\n",
        ")\n",
        "test_df = (\n",
        "    data[(data.date >= test_cut_date)].reset_index(drop=True)\n",
        "    # .drop(columns=['date'])\n",
        ")"
      ]
    },
    {
      "cell_type": "code",
      "execution_count": 14,
      "metadata": {
        "colab": {
          "base_uri": "https://localhost:8080/"
        },
        "id": "MHGiNlUv-1DW",
        "outputId": "df47560c-cd06-406e-9952-87d039226126"
      },
      "outputs": [
        {
          "name": "stdout",
          "output_type": "stream",
          "text": [
            "Train df shape:\t (542496, 25)\n",
            "Eval df shape:\t (24836, 25)\n",
            "Test df shape:\t (24836, 25)\n"
          ]
        }
      ],
      "source": [
        "print(\"Train df shape:\\t\", train_df.shape)\n",
        "print(\"Eval df shape:\\t\", eval_df.shape)\n",
        "print(\"Test df shape:\\t\", test_df.shape)"
      ]
    },
    {
      "cell_type": "markdown",
      "metadata": {
        "id": "GwfPc32TMcWd"
      },
      "source": [
        "### removing outliers\n",
        "check for anomalies in training data"
      ]
    },
    {
      "cell_type": "code",
      "execution_count": 15,
      "metadata": {
        "id": "IAvAIjjrXPyg"
      },
      "outputs": [],
      "source": [
        "def zscore(window):\n",
        "\n",
        "    def zscore_(x):\n",
        "        r = x.rolling(window=window)\n",
        "        m = r.mean().shift(1)\n",
        "        s = r.std(ddof=0).shift(1)\n",
        "        z = ((x - m) / s).round(2)\n",
        "        return z\n",
        "\n",
        "    zscore_.__name__ = \"zscore_\"\n",
        "    return zscore_"
      ]
    },
    {
      "cell_type": "code",
      "execution_count": 16,
      "metadata": {
        "id": "sVwLTKlSBk-Y"
      },
      "outputs": [],
      "source": [
        "# in train_df only\n",
        "\n",
        "train_df = train_df.assign(\n",
        "    zscore=train_df.groupby([\"store_id\", \"product_id\"]).sales.transform(zscore(21))\n",
        ")"
      ]
    },
    {
      "cell_type": "code",
      "execution_count": 17,
      "metadata": {
        "id": "vSSD0i0MXkwC"
      },
      "outputs": [],
      "source": [
        "train_df = train_df[\n",
        "    # high sales can be associated with promo and marketing features\n",
        "    # (train_df.zscore<=3)|\n",
        "    # low sales can be more of anomaly\n",
        "    (train_df.zscore >= -2)\n",
        "]\n",
        "\n",
        "train_df.drop(columns=\"zscore\", inplace=True)"
      ]
    },
    {
      "cell_type": "code",
      "execution_count": 18,
      "metadata": {
        "colab": {
          "base_uri": "https://localhost:8080/"
        },
        "id": "IQr3O-oWf_6u",
        "outputId": "ddf9183a-9090-4a23-888f-44596ae46763"
      },
      "outputs": [
        {
          "name": "stdout",
          "output_type": "stream",
          "text": [
            "Train df shape:\t (465238, 25)\n",
            "Eval df shape:\t (24836, 25)\n",
            "Test df shape:\t (24836, 25)\n"
          ]
        }
      ],
      "source": [
        "print(\"Train df shape:\\t\", train_df.shape)\n",
        "print(\"Eval df shape:\\t\", eval_df.shape)\n",
        "print(\"Test df shape:\\t\", test_df.shape)"
      ]
    },
    {
      "cell_type": "code",
      "execution_count": 22,
      "metadata": {},
      "outputs": [],
      "source": [
        "train_df.to_parquet(\"../data/train_df.parquet\")\n",
        "eval_df.to_parquet(\"../data/eval_df.parquet\")\n",
        "test_df.to_parquet(\"../data/test_df.parquet\")"
      ]
    }
  ],
  "metadata": {
    "colab": {
      "collapsed_sections": [
        "c3Y04J10YzzO",
        "iSeEwm0uT43N",
        "Gpp7CApnhHgv",
        "Bb2U82B_hO0g",
        "UihxRKzBBuxu",
        "omJ5-WMyCG8y",
        "0n-3lpJlw_8N",
        "VS6UzyEtxFq9",
        "pgGcW5B_a1nk",
        "IreNpGjna5n1",
        "H5eacwjOFfCZ",
        "amoR2kZcFG7m"
      ],
      "provenance": []
    },
    "kernelspec": {
      "display_name": "Python 3 (ipykernel)",
      "language": "python",
      "name": "python3"
    },
    "language_info": {
      "codemirror_mode": {
        "name": "ipython",
        "version": 3
      },
      "file_extension": ".py",
      "mimetype": "text/x-python",
      "name": "python",
      "nbconvert_exporter": "python",
      "pygments_lexer": "ipython3",
      "version": "3.12.7"
    }
  },
  "nbformat": 4,
  "nbformat_minor": 0
}
